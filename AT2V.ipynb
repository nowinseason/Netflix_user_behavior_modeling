{
 "cells": [
  {
   "cell_type": "code",
   "execution_count": 1,
   "metadata": {
    "colab": {
     "base_uri": "https://localhost:8080/"
    },
    "executionInfo": {
     "elapsed": 97,
     "status": "ok",
     "timestamp": 1663382535777,
     "user": {
      "displayName": "changhee han",
      "userId": "07565524867850934674"
     },
     "user_tz": 300
    },
    "id": "EiA7LoW8he_-",
    "outputId": "7708fc9e-5e9e-431b-9de9-3ac64433d9fc"
   },
   "outputs": [
    {
     "name": "stdout",
     "output_type": "stream",
     "text": [
      "Installing collected packages: stellargraph\n",
      "Successfully installed stellargraph-1.2.1\n"
     ]
    }
   ],
   "source": [
    "!pip install stellargraph"
   ]
  },
  {
   "cell_type": "markdown",
   "metadata": {
    "id": "u3u88pzmZuoX"
   },
   "source": [
    "# LOAD DATASET "
   ]
  },
  {
   "cell_type": "code",
   "execution_count": 2,
   "metadata": {
    "colab": {
     "base_uri": "https://localhost:8080/"
    },
    "executionInfo": {
     "elapsed": 27271,
     "status": "ok",
     "timestamp": 1663382565570,
     "user": {
      "displayName": "changhee han",
      "userId": "07565524867850934674"
     },
     "user_tz": 300
    },
    "id": "ujAHZ-9gh2rc",
    "outputId": "962af786-1cae-430d-91b7-a6124e93cfaa"
   },
   "outputs": [
    {
     "name": "stdout",
     "output_type": "stream",
     "text": [
      "Mounted at /content/drive\n"
     ]
    }
   ],
   "source": [
    "import os \n",
    "import pandas as pd\n",
    "from stellargraph import StellarGraph "
   ]
  },
  {
   "cell_type": "code",
   "execution_count": null,
   "metadata": {},
   "outputs": [],
   "source": [
    "DATA_PATH=os.path.join(os.getcwd(),'DATA/')\n",
    "SAVE_PATH=os.path.join(os.getcwd(),'saved_model/')\n",
    "Result_PATH=os.path.join(os.getcwd(),'Result/')"
   ]
  },
  {
   "cell_type": "code",
   "execution_count": 3,
   "metadata": {
    "executionInfo": {
     "elapsed": 639,
     "status": "ok",
     "timestamp": 1663382566202,
     "user": {
      "displayName": "changhee han",
      "userId": "07565524867850934674"
     },
     "user_tz": 300
    },
    "id": "ifzSseLohTUD"
   },
   "outputs": [],
   "source": [
    "edges_data=pd.read_csv(DATA_PATH+'sample.csv')\n",
    "node_feature=pd.read_csv(DATA_PATH+'sample_feature.csv')\n",
    "#node_feature=node_feature.drop_duplicates(subset=['index'])\n",
    "node_features = node_feature.set_index(keys=['index'], inplace=False, drop=True)"
   ]
  },
  {
   "cell_type": "code",
   "execution_count": 4,
   "metadata": {
    "colab": {
     "base_uri": "https://localhost:8080/",
     "height": 267
    },
    "executionInfo": {
     "elapsed": 10,
     "status": "ok",
     "timestamp": 1663382566202,
     "user": {
      "displayName": "changhee han",
      "userId": "07565524867850934674"
     },
     "user_tz": 300
    },
    "id": "YAbQoiu4h6kC",
    "outputId": "466b3841-b355-4cfa-eed8-35887273b420"
   },
   "outputs": [
    {
     "data": {
      "text/html": [
       "\n",
       "  <div id=\"df-6e884fa8-12e5-48b5-9ede-d456a95b3bbd\">\n",
       "    <div class=\"colab-df-container\">\n",
       "      <div>\n",
       "<style scoped>\n",
       "    .dataframe tbody tr th:only-of-type {\n",
       "        vertical-align: middle;\n",
       "    }\n",
       "\n",
       "    .dataframe tbody tr th {\n",
       "        vertical-align: top;\n",
       "    }\n",
       "\n",
       "    .dataframe thead th {\n",
       "        text-align: right;\n",
       "    }\n",
       "</style>\n",
       "<table border=\"1\" class=\"dataframe\">\n",
       "  <thead>\n",
       "    <tr style=\"text-align: right;\">\n",
       "      <th></th>\n",
       "      <th>1</th>\n",
       "      <th>2</th>\n",
       "      <th>3</th>\n",
       "      <th>4</th>\n",
       "      <th>5</th>\n",
       "      <th>6</th>\n",
       "      <th>7</th>\n",
       "      <th>8</th>\n",
       "      <th>9</th>\n",
       "      <th>10</th>\n",
       "      <th>...</th>\n",
       "      <th>290</th>\n",
       "      <th>291</th>\n",
       "      <th>292</th>\n",
       "      <th>293</th>\n",
       "      <th>294</th>\n",
       "      <th>295</th>\n",
       "      <th>296</th>\n",
       "      <th>297</th>\n",
       "      <th>298</th>\n",
       "      <th>299</th>\n",
       "    </tr>\n",
       "    <tr>\n",
       "      <th>index</th>\n",
       "      <th></th>\n",
       "      <th></th>\n",
       "      <th></th>\n",
       "      <th></th>\n",
       "      <th></th>\n",
       "      <th></th>\n",
       "      <th></th>\n",
       "      <th></th>\n",
       "      <th></th>\n",
       "      <th></th>\n",
       "      <th></th>\n",
       "      <th></th>\n",
       "      <th></th>\n",
       "      <th></th>\n",
       "      <th></th>\n",
       "      <th></th>\n",
       "      <th></th>\n",
       "      <th></th>\n",
       "      <th></th>\n",
       "      <th></th>\n",
       "      <th></th>\n",
       "    </tr>\n",
       "  </thead>\n",
       "  <tbody>\n",
       "    <tr>\n",
       "      <th>5887</th>\n",
       "      <td>-0.168308</td>\n",
       "      <td>0.453490</td>\n",
       "      <td>-0.095535</td>\n",
       "      <td>0.290504</td>\n",
       "      <td>-0.894610</td>\n",
       "      <td>0.103735</td>\n",
       "      <td>-0.280093</td>\n",
       "      <td>0.074014</td>\n",
       "      <td>0.503019</td>\n",
       "      <td>0.367744</td>\n",
       "      <td>...</td>\n",
       "      <td>-0.163552</td>\n",
       "      <td>-0.086980</td>\n",
       "      <td>-0.145552</td>\n",
       "      <td>0.070703</td>\n",
       "      <td>0.141626</td>\n",
       "      <td>0.001629</td>\n",
       "      <td>-0.096676</td>\n",
       "      <td>-0.052995</td>\n",
       "      <td>-0.112178</td>\n",
       "      <td>-0.090999</td>\n",
       "    </tr>\n",
       "    <tr>\n",
       "      <th>3426</th>\n",
       "      <td>2.397051</td>\n",
       "      <td>0.090396</td>\n",
       "      <td>1.236613</td>\n",
       "      <td>0.839081</td>\n",
       "      <td>0.093752</td>\n",
       "      <td>0.323479</td>\n",
       "      <td>-0.483196</td>\n",
       "      <td>-0.176435</td>\n",
       "      <td>-0.552185</td>\n",
       "      <td>0.748059</td>\n",
       "      <td>...</td>\n",
       "      <td>0.584843</td>\n",
       "      <td>0.119463</td>\n",
       "      <td>-0.409786</td>\n",
       "      <td>0.380476</td>\n",
       "      <td>-0.362136</td>\n",
       "      <td>0.192507</td>\n",
       "      <td>0.413073</td>\n",
       "      <td>-0.362811</td>\n",
       "      <td>-0.028254</td>\n",
       "      <td>0.358826</td>\n",
       "    </tr>\n",
       "    <tr>\n",
       "      <th>6340</th>\n",
       "      <td>0.844389</td>\n",
       "      <td>2.615271</td>\n",
       "      <td>0.093406</td>\n",
       "      <td>-1.072956</td>\n",
       "      <td>-0.955502</td>\n",
       "      <td>0.727380</td>\n",
       "      <td>-0.141938</td>\n",
       "      <td>-0.092633</td>\n",
       "      <td>0.751066</td>\n",
       "      <td>-1.077170</td>\n",
       "      <td>...</td>\n",
       "      <td>0.114912</td>\n",
       "      <td>-0.324140</td>\n",
       "      <td>-0.153945</td>\n",
       "      <td>0.141717</td>\n",
       "      <td>0.199205</td>\n",
       "      <td>-0.725853</td>\n",
       "      <td>-0.691025</td>\n",
       "      <td>0.233834</td>\n",
       "      <td>0.390434</td>\n",
       "      <td>-0.268641</td>\n",
       "    </tr>\n",
       "    <tr>\n",
       "      <th>7031</th>\n",
       "      <td>-0.560994</td>\n",
       "      <td>0.060390</td>\n",
       "      <td>-0.311671</td>\n",
       "      <td>0.110356</td>\n",
       "      <td>0.077707</td>\n",
       "      <td>0.342163</td>\n",
       "      <td>-0.432374</td>\n",
       "      <td>0.023661</td>\n",
       "      <td>0.243273</td>\n",
       "      <td>-0.051051</td>\n",
       "      <td>...</td>\n",
       "      <td>0.007316</td>\n",
       "      <td>0.084201</td>\n",
       "      <td>0.145957</td>\n",
       "      <td>0.006628</td>\n",
       "      <td>-0.108482</td>\n",
       "      <td>-0.102031</td>\n",
       "      <td>0.008283</td>\n",
       "      <td>-0.010563</td>\n",
       "      <td>0.212869</td>\n",
       "      <td>0.000766</td>\n",
       "    </tr>\n",
       "    <tr>\n",
       "      <th>7994</th>\n",
       "      <td>2.597059</td>\n",
       "      <td>3.824801</td>\n",
       "      <td>1.423339</td>\n",
       "      <td>1.348240</td>\n",
       "      <td>-2.891339</td>\n",
       "      <td>-0.556217</td>\n",
       "      <td>0.250086</td>\n",
       "      <td>-0.015109</td>\n",
       "      <td>1.021333</td>\n",
       "      <td>0.098333</td>\n",
       "      <td>...</td>\n",
       "      <td>-0.350584</td>\n",
       "      <td>-1.176642</td>\n",
       "      <td>1.377007</td>\n",
       "      <td>-1.279261</td>\n",
       "      <td>1.606988</td>\n",
       "      <td>-0.253019</td>\n",
       "      <td>0.147770</td>\n",
       "      <td>1.038439</td>\n",
       "      <td>0.548416</td>\n",
       "      <td>-1.134808</td>\n",
       "    </tr>\n",
       "  </tbody>\n",
       "</table>\n",
       "<p>5 rows × 299 columns</p>\n",
       "</div>\n",
       "      <button class=\"colab-df-convert\" onclick=\"convertToInteractive('df-6e884fa8-12e5-48b5-9ede-d456a95b3bbd')\"\n",
       "              title=\"Convert this dataframe to an interactive table.\"\n",
       "              style=\"display:none;\">\n",
       "        \n",
       "  <svg xmlns=\"http://www.w3.org/2000/svg\" height=\"24px\"viewBox=\"0 0 24 24\"\n",
       "       width=\"24px\">\n",
       "    <path d=\"M0 0h24v24H0V0z\" fill=\"none\"/>\n",
       "    <path d=\"M18.56 5.44l.94 2.06.94-2.06 2.06-.94-2.06-.94-.94-2.06-.94 2.06-2.06.94zm-11 1L8.5 8.5l.94-2.06 2.06-.94-2.06-.94L8.5 2.5l-.94 2.06-2.06.94zm10 10l.94 2.06.94-2.06 2.06-.94-2.06-.94-.94-2.06-.94 2.06-2.06.94z\"/><path d=\"M17.41 7.96l-1.37-1.37c-.4-.4-.92-.59-1.43-.59-.52 0-1.04.2-1.43.59L10.3 9.45l-7.72 7.72c-.78.78-.78 2.05 0 2.83L4 21.41c.39.39.9.59 1.41.59.51 0 1.02-.2 1.41-.59l7.78-7.78 2.81-2.81c.8-.78.8-2.07 0-2.86zM5.41 20L4 18.59l7.72-7.72 1.47 1.35L5.41 20z\"/>\n",
       "  </svg>\n",
       "      </button>\n",
       "      \n",
       "  <style>\n",
       "    .colab-df-container {\n",
       "      display:flex;\n",
       "      flex-wrap:wrap;\n",
       "      gap: 12px;\n",
       "    }\n",
       "\n",
       "    .colab-df-convert {\n",
       "      background-color: #E8F0FE;\n",
       "      border: none;\n",
       "      border-radius: 50%;\n",
       "      cursor: pointer;\n",
       "      display: none;\n",
       "      fill: #1967D2;\n",
       "      height: 32px;\n",
       "      padding: 0 0 0 0;\n",
       "      width: 32px;\n",
       "    }\n",
       "\n",
       "    .colab-df-convert:hover {\n",
       "      background-color: #E2EBFA;\n",
       "      box-shadow: 0px 1px 2px rgba(60, 64, 67, 0.3), 0px 1px 3px 1px rgba(60, 64, 67, 0.15);\n",
       "      fill: #174EA6;\n",
       "    }\n",
       "\n",
       "    [theme=dark] .colab-df-convert {\n",
       "      background-color: #3B4455;\n",
       "      fill: #D2E3FC;\n",
       "    }\n",
       "\n",
       "    [theme=dark] .colab-df-convert:hover {\n",
       "      background-color: #434B5C;\n",
       "      box-shadow: 0px 1px 3px 1px rgba(0, 0, 0, 0.15);\n",
       "      filter: drop-shadow(0px 1px 2px rgba(0, 0, 0, 0.3));\n",
       "      fill: #FFFFFF;\n",
       "    }\n",
       "  </style>\n",
       "\n",
       "      <script>\n",
       "        const buttonEl =\n",
       "          document.querySelector('#df-6e884fa8-12e5-48b5-9ede-d456a95b3bbd button.colab-df-convert');\n",
       "        buttonEl.style.display =\n",
       "          google.colab.kernel.accessAllowed ? 'block' : 'none';\n",
       "\n",
       "        async function convertToInteractive(key) {\n",
       "          const element = document.querySelector('#df-6e884fa8-12e5-48b5-9ede-d456a95b3bbd');\n",
       "          const dataTable =\n",
       "            await google.colab.kernel.invokeFunction('convertToInteractive',\n",
       "                                                     [key], {});\n",
       "          if (!dataTable) return;\n",
       "\n",
       "          const docLinkHtml = 'Like what you see? Visit the ' +\n",
       "            '<a target=\"_blank\" href=https://colab.research.google.com/notebooks/data_table.ipynb>data table notebook</a>'\n",
       "            + ' to learn more about interactive tables.';\n",
       "          element.innerHTML = '';\n",
       "          dataTable['output_type'] = 'display_data';\n",
       "          await google.colab.output.renderOutput(dataTable, element);\n",
       "          const docLink = document.createElement('div');\n",
       "          docLink.innerHTML = docLinkHtml;\n",
       "          element.appendChild(docLink);\n",
       "        }\n",
       "      </script>\n",
       "    </div>\n",
       "  </div>\n",
       "  "
      ],
      "text/plain": [
       "              1         2         3         4         5         6         7  \\\n",
       "index                                                                         \n",
       "5887  -0.168308  0.453490 -0.095535  0.290504 -0.894610  0.103735 -0.280093   \n",
       "3426   2.397051  0.090396  1.236613  0.839081  0.093752  0.323479 -0.483196   \n",
       "6340   0.844389  2.615271  0.093406 -1.072956 -0.955502  0.727380 -0.141938   \n",
       "7031  -0.560994  0.060390 -0.311671  0.110356  0.077707  0.342163 -0.432374   \n",
       "7994   2.597059  3.824801  1.423339  1.348240 -2.891339 -0.556217  0.250086   \n",
       "\n",
       "              8         9        10  ...       290       291       292  \\\n",
       "index                                ...                                 \n",
       "5887   0.074014  0.503019  0.367744  ... -0.163552 -0.086980 -0.145552   \n",
       "3426  -0.176435 -0.552185  0.748059  ...  0.584843  0.119463 -0.409786   \n",
       "6340  -0.092633  0.751066 -1.077170  ...  0.114912 -0.324140 -0.153945   \n",
       "7031   0.023661  0.243273 -0.051051  ...  0.007316  0.084201  0.145957   \n",
       "7994  -0.015109  1.021333  0.098333  ... -0.350584 -1.176642  1.377007   \n",
       "\n",
       "            293       294       295       296       297       298       299  \n",
       "index                                                                        \n",
       "5887   0.070703  0.141626  0.001629 -0.096676 -0.052995 -0.112178 -0.090999  \n",
       "3426   0.380476 -0.362136  0.192507  0.413073 -0.362811 -0.028254  0.358826  \n",
       "6340   0.141717  0.199205 -0.725853 -0.691025  0.233834  0.390434 -0.268641  \n",
       "7031   0.006628 -0.108482 -0.102031  0.008283 -0.010563  0.212869  0.000766  \n",
       "7994  -1.279261  1.606988 -0.253019  0.147770  1.038439  0.548416 -1.134808  \n",
       "\n",
       "[5 rows x 299 columns]"
      ]
     },
     "execution_count": 4,
     "metadata": {},
     "output_type": "execute_result"
    }
   ],
   "source": [
    "node_features.head()"
   ]
  },
  {
   "cell_type": "code",
   "execution_count": 5,
   "metadata": {
    "colab": {
     "base_uri": "https://localhost:8080/",
     "height": 206
    },
    "executionInfo": {
     "elapsed": 9,
     "status": "ok",
     "timestamp": 1663382566203,
     "user": {
      "displayName": "changhee han",
      "userId": "07565524867850934674"
     },
     "user_tz": 300
    },
    "id": "iJL0tElMmF9w",
    "outputId": "a79b7b1e-2d74-4371-d54e-b8f825ab6b88"
   },
   "outputs": [
    {
     "data": {
      "text/html": [
       "\n",
       "  <div id=\"df-b122ba34-a079-4017-ad61-3553fd1c2110\">\n",
       "    <div class=\"colab-df-container\">\n",
       "      <div>\n",
       "<style scoped>\n",
       "    .dataframe tbody tr th:only-of-type {\n",
       "        vertical-align: middle;\n",
       "    }\n",
       "\n",
       "    .dataframe tbody tr th {\n",
       "        vertical-align: top;\n",
       "    }\n",
       "\n",
       "    .dataframe thead th {\n",
       "        text-align: right;\n",
       "    }\n",
       "</style>\n",
       "<table border=\"1\" class=\"dataframe\">\n",
       "  <thead>\n",
       "    <tr style=\"text-align: right;\">\n",
       "      <th></th>\n",
       "      <th>target</th>\n",
       "      <th>source</th>\n",
       "    </tr>\n",
       "  </thead>\n",
       "  <tbody>\n",
       "    <tr>\n",
       "      <th>0</th>\n",
       "      <td>2</td>\n",
       "      <td>3</td>\n",
       "    </tr>\n",
       "    <tr>\n",
       "      <th>1</th>\n",
       "      <td>3</td>\n",
       "      <td>4</td>\n",
       "    </tr>\n",
       "    <tr>\n",
       "      <th>2</th>\n",
       "      <td>4</td>\n",
       "      <td>5</td>\n",
       "    </tr>\n",
       "    <tr>\n",
       "      <th>3</th>\n",
       "      <td>5</td>\n",
       "      <td>6</td>\n",
       "    </tr>\n",
       "    <tr>\n",
       "      <th>4</th>\n",
       "      <td>6</td>\n",
       "      <td>7</td>\n",
       "    </tr>\n",
       "  </tbody>\n",
       "</table>\n",
       "</div>\n",
       "      <button class=\"colab-df-convert\" onclick=\"convertToInteractive('df-b122ba34-a079-4017-ad61-3553fd1c2110')\"\n",
       "              title=\"Convert this dataframe to an interactive table.\"\n",
       "              style=\"display:none;\">\n",
       "        \n",
       "  <svg xmlns=\"http://www.w3.org/2000/svg\" height=\"24px\"viewBox=\"0 0 24 24\"\n",
       "       width=\"24px\">\n",
       "    <path d=\"M0 0h24v24H0V0z\" fill=\"none\"/>\n",
       "    <path d=\"M18.56 5.44l.94 2.06.94-2.06 2.06-.94-2.06-.94-.94-2.06-.94 2.06-2.06.94zm-11 1L8.5 8.5l.94-2.06 2.06-.94-2.06-.94L8.5 2.5l-.94 2.06-2.06.94zm10 10l.94 2.06.94-2.06 2.06-.94-2.06-.94-.94-2.06-.94 2.06-2.06.94z\"/><path d=\"M17.41 7.96l-1.37-1.37c-.4-.4-.92-.59-1.43-.59-.52 0-1.04.2-1.43.59L10.3 9.45l-7.72 7.72c-.78.78-.78 2.05 0 2.83L4 21.41c.39.39.9.59 1.41.59.51 0 1.02-.2 1.41-.59l7.78-7.78 2.81-2.81c.8-.78.8-2.07 0-2.86zM5.41 20L4 18.59l7.72-7.72 1.47 1.35L5.41 20z\"/>\n",
       "  </svg>\n",
       "      </button>\n",
       "      \n",
       "  <style>\n",
       "    .colab-df-container {\n",
       "      display:flex;\n",
       "      flex-wrap:wrap;\n",
       "      gap: 12px;\n",
       "    }\n",
       "\n",
       "    .colab-df-convert {\n",
       "      background-color: #E8F0FE;\n",
       "      border: none;\n",
       "      border-radius: 50%;\n",
       "      cursor: pointer;\n",
       "      display: none;\n",
       "      fill: #1967D2;\n",
       "      height: 32px;\n",
       "      padding: 0 0 0 0;\n",
       "      width: 32px;\n",
       "    }\n",
       "\n",
       "    .colab-df-convert:hover {\n",
       "      background-color: #E2EBFA;\n",
       "      box-shadow: 0px 1px 2px rgba(60, 64, 67, 0.3), 0px 1px 3px 1px rgba(60, 64, 67, 0.15);\n",
       "      fill: #174EA6;\n",
       "    }\n",
       "\n",
       "    [theme=dark] .colab-df-convert {\n",
       "      background-color: #3B4455;\n",
       "      fill: #D2E3FC;\n",
       "    }\n",
       "\n",
       "    [theme=dark] .colab-df-convert:hover {\n",
       "      background-color: #434B5C;\n",
       "      box-shadow: 0px 1px 3px 1px rgba(0, 0, 0, 0.15);\n",
       "      filter: drop-shadow(0px 1px 2px rgba(0, 0, 0, 0.3));\n",
       "      fill: #FFFFFF;\n",
       "    }\n",
       "  </style>\n",
       "\n",
       "      <script>\n",
       "        const buttonEl =\n",
       "          document.querySelector('#df-b122ba34-a079-4017-ad61-3553fd1c2110 button.colab-df-convert');\n",
       "        buttonEl.style.display =\n",
       "          google.colab.kernel.accessAllowed ? 'block' : 'none';\n",
       "\n",
       "        async function convertToInteractive(key) {\n",
       "          const element = document.querySelector('#df-b122ba34-a079-4017-ad61-3553fd1c2110');\n",
       "          const dataTable =\n",
       "            await google.colab.kernel.invokeFunction('convertToInteractive',\n",
       "                                                     [key], {});\n",
       "          if (!dataTable) return;\n",
       "\n",
       "          const docLinkHtml = 'Like what you see? Visit the ' +\n",
       "            '<a target=\"_blank\" href=https://colab.research.google.com/notebooks/data_table.ipynb>data table notebook</a>'\n",
       "            + ' to learn more about interactive tables.';\n",
       "          element.innerHTML = '';\n",
       "          dataTable['output_type'] = 'display_data';\n",
       "          await google.colab.output.renderOutput(dataTable, element);\n",
       "          const docLink = document.createElement('div');\n",
       "          docLink.innerHTML = docLinkHtml;\n",
       "          element.appendChild(docLink);\n",
       "        }\n",
       "      </script>\n",
       "    </div>\n",
       "  </div>\n",
       "  "
      ],
      "text/plain": [
       "   target  source\n",
       "0       2       3\n",
       "1       3       4\n",
       "2       4       5\n",
       "3       5       6\n",
       "4       6       7"
      ]
     },
     "execution_count": 5,
     "metadata": {},
     "output_type": "execute_result"
    }
   ],
   "source": [
    "edges_data=edges_data.drop_duplicates()\n",
    "edges_data.head()"
   ]
  },
  {
   "cell_type": "code",
   "execution_count": 9,
   "metadata": {
    "executionInfo": {
     "elapsed": 452,
     "status": "ok",
     "timestamp": 1663382600167,
     "user": {
      "displayName": "changhee han",
      "userId": "07565524867850934674"
     },
     "user_tz": 300
    },
    "id": "chSLFdMUh92f"
   },
   "outputs": [],
   "source": [
    "G_all = StellarGraph({\"feature\": node_features}, {\"edge\": edges_data})\n"
   ]
  },
  {
   "cell_type": "code",
   "execution_count": 7,
   "metadata": {
    "colab": {
     "base_uri": "https://localhost:8080/"
    },
    "executionInfo": {
     "elapsed": 572,
     "status": "ok",
     "timestamp": 1663382571433,
     "user": {
      "displayName": "changhee han",
      "userId": "07565524867850934674"
     },
     "user_tz": 300
    },
    "id": "Q0IFXi_dqExg",
    "outputId": "b06faf47-74e6-4710-be71-911f69f8bb3c"
   },
   "outputs": [
    {
     "name": "stdout",
     "output_type": "stream",
     "text": [
      "StellarGraph: Undirected multigraph\n",
      " Nodes: 8472, Edges: 267926\n",
      "\n",
      " Node types:\n",
      "  feature: [8472]\n",
      "    Features: float32 vector, length 299\n",
      "    Edge types: feature-edge->feature\n",
      "\n",
      " Edge types:\n",
      "    feature-edge->feature: [267926]\n",
      "        Weights: all 1 (default)\n",
      "        Features: none\n"
     ]
    }
   ],
   "source": [
    "print(G_all.info())"
   ]
  },
  {
   "cell_type": "markdown",
   "metadata": {
    "id": "GDNamBZ0Z3bq"
   },
   "source": [
    "# Extract Sub-GRAPH"
   ]
  },
  {
   "cell_type": "code",
   "execution_count": null,
   "metadata": {
    "id": "g-vEZc7DZ7BW"
   },
   "outputs": [],
   "source": [
    "# sampleing from edge_list and align nodes"
   ]
  },
  {
   "cell_type": "code",
   "execution_count": 13,
   "metadata": {
    "executionInfo": {
     "elapsed": 458,
     "status": "ok",
     "timestamp": 1663382631619,
     "user": {
      "displayName": "changhee han",
      "userId": "07565524867850934674"
     },
     "user_tz": 300
    },
    "id": "xPbEJs4HZ6-i"
   },
   "outputs": [],
   "source": [
    "sub_edges=edges_data.sample(frac=0.1,replace=False,random_state=2211)"
   ]
  },
  {
   "cell_type": "code",
   "execution_count": 14,
   "metadata": {
    "executionInfo": {
     "elapsed": 446,
     "status": "ok",
     "timestamp": 1663382633196,
     "user": {
      "displayName": "changhee han",
      "userId": "07565524867850934674"
     },
     "user_tz": 300
    },
    "id": "jQLzHlZYZ68J"
   },
   "outputs": [],
   "source": [
    "s=sub_edges['source'].tolist()\n",
    "t=sub_edges['target'].tolist()\n",
    "s.extend(t)\n",
    "sub_nodes_idx=list(set(s))"
   ]
  },
  {
   "cell_type": "code",
   "execution_count": 15,
   "metadata": {
    "executionInfo": {
     "elapsed": 465,
     "status": "ok",
     "timestamp": 1663382635294,
     "user": {
      "displayName": "changhee han",
      "userId": "07565524867850934674"
     },
     "user_tz": 300
    },
    "id": "-GRxARMAeUsq"
   },
   "outputs": [],
   "source": [
    "sub_nodes=node_features.loc[sub_nodes_idx,:]"
   ]
  },
  {
   "cell_type": "code",
   "execution_count": 16,
   "metadata": {
    "executionInfo": {
     "elapsed": 450,
     "status": "ok",
     "timestamp": 1663382636865,
     "user": {
      "displayName": "changhee han",
      "userId": "07565524867850934674"
     },
     "user_tz": 300
    },
    "id": "Mkv6B8WPZ63V"
   },
   "outputs": [],
   "source": [
    "G_sub = StellarGraph({\"feature\": sub_nodes}, {\"edge\": sub_edges})"
   ]
  },
  {
   "cell_type": "code",
   "execution_count": 17,
   "metadata": {
    "colab": {
     "base_uri": "https://localhost:8080/"
    },
    "executionInfo": {
     "elapsed": 557,
     "status": "ok",
     "timestamp": 1663382638528,
     "user": {
      "displayName": "changhee han",
      "userId": "07565524867850934674"
     },
     "user_tz": 300
    },
    "id": "5ylQrr4OZ61R",
    "outputId": "f3b46cc8-b27f-45f5-c2ea-3ba837b57a79"
   },
   "outputs": [
    {
     "name": "stdout",
     "output_type": "stream",
     "text": [
      "StellarGraph: Undirected multigraph\n",
      " Nodes: 5531, Edges: 26793\n",
      "\n",
      " Node types:\n",
      "  feature: [5531]\n",
      "    Features: float32 vector, length 299\n",
      "    Edge types: feature-edge->feature\n",
      "\n",
      " Edge types:\n",
      "    feature-edge->feature: [26793]\n",
      "        Weights: all 1 (default)\n",
      "        Features: none\n"
     ]
    }
   ],
   "source": [
    "print(G_sub.info())"
   ]
  },
  {
   "cell_type": "code",
   "execution_count": 18,
   "metadata": {
    "executionInfo": {
     "elapsed": 470,
     "status": "ok",
     "timestamp": 1663382643156,
     "user": {
      "displayName": "changhee han",
      "userId": "07565524867850934674"
     },
     "user_tz": 300
    },
    "id": "QkPnKTSuZ6u4"
   },
   "outputs": [],
   "source": [
    "non_sub_edges=edges_data.drop(sub_edges.index)"
   ]
  },
  {
   "cell_type": "markdown",
   "metadata": {
    "id": "dXhWJ_RbZyY1"
   },
   "source": [
    "# Learn Sub-GRAPH "
   ]
  },
  {
   "cell_type": "code",
   "execution_count": 19,
   "metadata": {
    "executionInfo": {
     "elapsed": 464,
     "status": "ok",
     "timestamp": 1663382646301,
     "user": {
      "displayName": "changhee han",
      "userId": "07565524867850934674"
     },
     "user_tz": 300
    },
    "id": "kkLjIyJpPouM"
   },
   "outputs": [],
   "source": [
    "import networkx as nx\n",
    "import pandas as pd\n",
    "import numpy as np\n",
    "import os\n",
    "import random\n",
    "\n",
    "import stellargraph as sg\n",
    "from stellargraph.data import EdgeSplitter\n",
    "from stellargraph.data import UnsupervisedSampler\n",
    "from stellargraph.mapper import Attri2VecLinkGenerator, Attri2VecNodeGenerator\n",
    "from stellargraph.layer import Attri2Vec, link_classification\n",
    "\n",
    "from tensorflow import keras\n",
    "\n",
    "from sklearn.linear_model import LogisticRegression\n",
    "from sklearn.svm import LinearSVC\n",
    "from sklearn.svm import SVC\n",
    "from sklearn.metrics import roc_auc_score\n",
    "from sklearn.metrics import accuracy_score\n",
    "\n",
    "sg.random.set_seed(1161)"
   ]
  },
  {
   "cell_type": "code",
   "execution_count": 21,
   "metadata": {
    "executionInfo": {
     "elapsed": 454,
     "status": "ok",
     "timestamp": 1663382657838,
     "user": {
      "displayName": "changhee han",
      "userId": "07565524867850934674"
     },
     "user_tz": 300
    },
    "id": "V_MWx4xktPU_"
   },
   "outputs": [],
   "source": [
    "nodes = list(G_sub.nodes())\n",
    "number_of_walks = 40\n",
    "length = 10"
   ]
  },
  {
   "cell_type": "code",
   "execution_count": 22,
   "metadata": {
    "executionInfo": {
     "elapsed": 2,
     "status": "ok",
     "timestamp": 1663382659933,
     "user": {
      "displayName": "changhee han",
      "userId": "07565524867850934674"
     },
     "user_tz": 300
    },
    "id": "62OKasrkPfVk"
   },
   "outputs": [],
   "source": [
    "unsupervised_samples = UnsupervisedSampler(\n",
    "    G_sub, nodes=nodes, length=length, number_of_walks=number_of_walks\n",
    ")"
   ]
  },
  {
   "cell_type": "code",
   "execution_count": 23,
   "metadata": {
    "executionInfo": {
     "elapsed": 2,
     "status": "ok",
     "timestamp": 1663382660985,
     "user": {
      "displayName": "changhee han",
      "userId": "07565524867850934674"
     },
     "user_tz": 300
    },
    "id": "50NIEaNxPumj"
   },
   "outputs": [],
   "source": [
    "batch_size = 64\n",
    "epochs = 200"
   ]
  },
  {
   "cell_type": "code",
   "execution_count": 24,
   "metadata": {
    "executionInfo": {
     "elapsed": 455,
     "status": "ok",
     "timestamp": 1663382663079,
     "user": {
      "displayName": "changhee han",
      "userId": "07565524867850934674"
     },
     "user_tz": 300
    },
    "id": "DUZZaBGbPw8C"
   },
   "outputs": [],
   "source": [
    "generator = Attri2VecLinkGenerator(G_sub, batch_size)"
   ]
  },
  {
   "cell_type": "code",
   "execution_count": 25,
   "metadata": {
    "executionInfo": {
     "elapsed": 447,
     "status": "ok",
     "timestamp": 1663382665699,
     "user": {
      "displayName": "changhee han",
      "userId": "07565524867850934674"
     },
     "user_tz": 300
    },
    "id": "AZkAWbClPyD8"
   },
   "outputs": [],
   "source": [
    "layer_sizes = [128]\n",
    "attri2vec = Attri2Vec(\n",
    "    layer_sizes=layer_sizes, generator=generator, bias=False, normalize=None\n",
    ")"
   ]
  },
  {
   "cell_type": "code",
   "execution_count": 26,
   "metadata": {
    "executionInfo": {
     "elapsed": 487,
     "status": "ok",
     "timestamp": 1663382667862,
     "user": {
      "displayName": "changhee han",
      "userId": "07565524867850934674"
     },
     "user_tz": 300
    },
    "id": "LlAvoteCPzgi"
   },
   "outputs": [],
   "source": [
    "# Build the model and expose input and output sockets of attri2vec, for node pair inputs:\n",
    "x_inp, x_out = attri2vec.in_out_tensors()"
   ]
  },
  {
   "cell_type": "code",
   "execution_count": 27,
   "metadata": {
    "colab": {
     "base_uri": "https://localhost:8080/"
    },
    "executionInfo": {
     "elapsed": 568,
     "status": "ok",
     "timestamp": 1663382669991,
     "user": {
      "displayName": "changhee han",
      "userId": "07565524867850934674"
     },
     "user_tz": 300
    },
    "id": "UjPIyy3gP1Y6",
    "outputId": "0843600e-1167-4b20-d607-9891f02b7cdd"
   },
   "outputs": [
    {
     "name": "stdout",
     "output_type": "stream",
     "text": [
      "link_classification: using 'ip' method to combine node embeddings into edge embeddings\n"
     ]
    }
   ],
   "source": [
    "prediction = link_classification(\n",
    "    output_dim=1, output_act=\"sigmoid\", edge_embedding_method=\"ip\"\n",
    ")(x_out)"
   ]
  },
  {
   "cell_type": "code",
   "execution_count": 28,
   "metadata": {
    "colab": {
     "base_uri": "https://localhost:8080/"
    },
    "executionInfo": {
     "elapsed": 436,
     "status": "ok",
     "timestamp": 1663382671993,
     "user": {
      "displayName": "changhee han",
      "userId": "07565524867850934674"
     },
     "user_tz": 300
    },
    "id": "2yKGevigP3ob",
    "outputId": "1ad67214-0da7-4b8d-bdf5-27c4603c51b6"
   },
   "outputs": [
    {
     "name": "stderr",
     "output_type": "stream",
     "text": [
      "/usr/local/lib/python3.7/dist-packages/keras/optimizer_v2/adam.py:105: UserWarning: The `lr` argument is deprecated, use `learning_rate` instead.\n",
      "  super(Adam, self).__init__(name, **kwargs)\n"
     ]
    }
   ],
   "source": [
    "model = keras.Model(inputs=x_inp, outputs=prediction)\n",
    "\n",
    "model.compile(\n",
    "    optimizer=keras.optimizers.Adam(lr=1e-2),\n",
    "    loss=keras.losses.binary_crossentropy,\n",
    "    metrics=[keras.metrics.binary_accuracy],\n",
    ")"
   ]
  },
  {
   "cell_type": "code",
   "execution_count": null,
   "metadata": {
    "colab": {
     "base_uri": "https://localhost:8080/"
    },
    "id": "heQZxRdSP5eB",
    "outputId": "20e7db9d-c4d9-40fc-a171-85eac250eeb0"
   },
   "outputs": [
    {
     "name": "stdout",
     "output_type": "stream",
     "text": [
      "Epoch 1/200\n",
      "62224/62224 - 212s - loss: 1.6559 - binary_accuracy: 0.5223 - 212s/epoch - 3ms/step\n",
      "Epoch 2/200\n",
      "62224/62224 - 208s - loss: 1.7394 - binary_accuracy: 0.5280 - 208s/epoch - 3ms/step\n",
      "Epoch 3/200\n",
      "62224/62224 - 207s - loss: 1.8010 - binary_accuracy: 0.5301 - 207s/epoch - 3ms/step\n",
      "Epoch 4/200\n",
      "62224/62224 - 206s - loss: 1.8447 - binary_accuracy: 0.5319 - 206s/epoch - 3ms/step\n",
      "Epoch 5/200\n",
      "62224/62224 - 206s - loss: 1.8819 - binary_accuracy: 0.5329 - 206s/epoch - 3ms/step\n",
      "Epoch 6/200\n",
      "62224/62224 - 207s - loss: 1.9004 - binary_accuracy: 0.5345 - 207s/epoch - 3ms/step\n",
      "Epoch 7/200\n",
      "62224/62224 - 204s - loss: 1.9093 - binary_accuracy: 0.5359 - 204s/epoch - 3ms/step\n",
      "Epoch 8/200\n",
      "62224/62224 - 205s - loss: 1.9150 - binary_accuracy: 0.5366 - 205s/epoch - 3ms/step\n",
      "Epoch 9/200\n",
      "62224/62224 - 206s - loss: 1.9392 - binary_accuracy: 0.5370 - 206s/epoch - 3ms/step\n",
      "Epoch 10/200\n",
      "62224/62224 - 204s - loss: 1.9505 - binary_accuracy: 0.5383 - 204s/epoch - 3ms/step\n",
      "Epoch 11/200\n",
      "62224/62224 - 205s - loss: 1.9538 - binary_accuracy: 0.5385 - 205s/epoch - 3ms/step\n",
      "Epoch 12/200\n",
      "62224/62224 - 204s - loss: 1.9696 - binary_accuracy: 0.5385 - 204s/epoch - 3ms/step\n",
      "Epoch 13/200\n",
      "62224/62224 - 205s - loss: 1.9823 - binary_accuracy: 0.5385 - 205s/epoch - 3ms/step\n",
      "Epoch 14/200\n",
      "62224/62224 - 205s - loss: 1.9910 - binary_accuracy: 0.5391 - 205s/epoch - 3ms/step\n",
      "Epoch 15/200\n",
      "62224/62224 - 206s - loss: 1.9977 - binary_accuracy: 0.5389 - 206s/epoch - 3ms/step\n",
      "Epoch 16/200\n",
      "62224/62224 - 203s - loss: 2.0051 - binary_accuracy: 0.5393 - 203s/epoch - 3ms/step\n",
      "Epoch 17/200\n",
      "62224/62224 - 205s - loss: 2.0102 - binary_accuracy: 0.5393 - 205s/epoch - 3ms/step\n",
      "Epoch 18/200\n",
      "62224/62224 - 205s - loss: 2.0229 - binary_accuracy: 0.5387 - 205s/epoch - 3ms/step\n",
      "Epoch 19/200\n",
      "62224/62224 - 205s - loss: 2.0277 - binary_accuracy: 0.5388 - 205s/epoch - 3ms/step\n",
      "Epoch 20/200\n",
      "62224/62224 - 204s - loss: 2.0297 - binary_accuracy: 0.5391 - 204s/epoch - 3ms/step\n",
      "Epoch 21/200\n",
      "62224/62224 - 205s - loss: 2.0400 - binary_accuracy: 0.5392 - 205s/epoch - 3ms/step\n",
      "Epoch 22/200\n",
      "62224/62224 - 204s - loss: 2.0462 - binary_accuracy: 0.5394 - 204s/epoch - 3ms/step\n",
      "Epoch 23/200\n",
      "62224/62224 - 205s - loss: 2.0503 - binary_accuracy: 0.5395 - 205s/epoch - 3ms/step\n",
      "Epoch 24/200\n",
      "62224/62224 - 205s - loss: 2.0548 - binary_accuracy: 0.5385 - 205s/epoch - 3ms/step\n",
      "Epoch 25/200\n",
      "62224/62224 - 204s - loss: 2.0645 - binary_accuracy: 0.5386 - 204s/epoch - 3ms/step\n",
      "Epoch 26/200\n",
      "62224/62224 - 204s - loss: 2.0663 - binary_accuracy: 0.5386 - 204s/epoch - 3ms/step\n",
      "Epoch 27/200\n",
      "62224/62224 - 205s - loss: 2.0756 - binary_accuracy: 0.5384 - 205s/epoch - 3ms/step\n",
      "Epoch 28/200\n",
      "62224/62224 - 205s - loss: 2.0793 - binary_accuracy: 0.5379 - 205s/epoch - 3ms/step\n",
      "Epoch 29/200\n",
      "62224/62224 - 205s - loss: 2.0812 - binary_accuracy: 0.5376 - 205s/epoch - 3ms/step\n",
      "Epoch 30/200\n",
      "62224/62224 - 204s - loss: 2.0891 - binary_accuracy: 0.5379 - 204s/epoch - 3ms/step\n",
      "Epoch 31/200\n",
      "62224/62224 - 204s - loss: 2.0946 - binary_accuracy: 0.5374 - 204s/epoch - 3ms/step\n",
      "Epoch 32/200\n",
      "62224/62224 - 205s - loss: 2.0917 - binary_accuracy: 0.5378 - 205s/epoch - 3ms/step\n",
      "Epoch 33/200\n",
      "62224/62224 - 204s - loss: 2.0946 - binary_accuracy: 0.5379 - 204s/epoch - 3ms/step\n",
      "Epoch 34/200\n",
      "62224/62224 - 203s - loss: 2.0968 - binary_accuracy: 0.5385 - 203s/epoch - 3ms/step\n",
      "Epoch 35/200\n",
      "62224/62224 - 205s - loss: 2.1005 - binary_accuracy: 0.5378 - 205s/epoch - 3ms/step\n",
      "Epoch 36/200\n",
      "62224/62224 - 203s - loss: 2.1043 - binary_accuracy: 0.5379 - 203s/epoch - 3ms/step\n",
      "Epoch 37/200\n",
      "62224/62224 - 203s - loss: 2.1081 - binary_accuracy: 0.5377 - 203s/epoch - 3ms/step\n",
      "Epoch 38/200\n",
      "62224/62224 - 205s - loss: 2.1054 - binary_accuracy: 0.5382 - 205s/epoch - 3ms/step\n",
      "Epoch 39/200\n",
      "62224/62224 - 204s - loss: 2.1074 - binary_accuracy: 0.5379 - 204s/epoch - 3ms/step\n",
      "Epoch 40/200\n"
     ]
    }
   ],
   "source": [
    "history = model.fit(\n",
    "    generator.flow(unsupervised_samples),\n",
    "    epochs=epochs,\n",
    "    verbose=2,\n",
    "    use_multiprocessing=True,\n",
    "    workers=1,\n",
    "    shuffle=True,\n",
    ")"
   ]
  },
  {
   "cell_type": "code",
   "execution_count": null,
   "metadata": {
    "colab": {
     "base_uri": "https://localhost:8080/",
     "height": 602
    },
    "executionInfo": {
     "elapsed": 1721,
     "status": "ok",
     "timestamp": 1655288229886,
     "user": {
      "displayName": "changhee han",
      "userId": "07565524867850934674"
     },
     "user_tz": -540
    },
    "id": "FeTqHL5xvY9i",
    "outputId": "31c9b9ae-4e2b-4088-dc3e-ef4dfae6d941"
   },
   "outputs": [
    {
     "name": "stdout",
     "output_type": "stream",
     "text": [
      "INFO:tensorflow:Assets written to: /content/drive/MyDrive/Netflix/at2v.model/assets\n"
     ]
    },
    {
     "data": {
      "image/png": "[encoded data removed]",
      "text/plain": [
       "<Figure size 504x576 with 2 Axes>"
      ]
     },
     "metadata": {
      "needs_background": "light"
     },
     "output_type": "display_data"
    }
   ],
   "source": [
    "model.save(SAVE_PATH+'at2v.model')\n",
    "import matplotlib.pyplot as plt\n",
    "\n",
    "fig=sg.utils.plot_history(history,return_figure=True)\n",
    "fig.savefig(Result_PATH+'at2v')\n",
    "sg.utils.plot_history(history)"
   ]
  },
  {
   "cell_type": "markdown",
   "metadata": {
    "id": "5duIcrD0P8Zj"
   },
   "source": [
    "# prediction"
   ]
  },
  {
   "cell_type": "code",
   "execution_count": null,
   "metadata": {
    "id": "4w9ECEu3P7tc"
   },
   "outputs": [],
   "source": [
    "x_inp_src = x_inp[0]\n",
    "x_out_src = x_out[0]\n",
    "embedding_model = keras.Model(inputs=x_inp_src, outputs=x_out_src)"
   ]
  },
  {
   "cell_type": "code",
   "execution_count": null,
   "metadata": {
    "colab": {
     "base_uri": "https://localhost:8080/"
    },
    "executionInfo": {
     "elapsed": 4,
     "status": "ok",
     "timestamp": 1655288467463,
     "user": {
      "displayName": "changhee han",
      "userId": "07565524867850934674"
     },
     "user_tz": -540
    },
    "id": "O0WQLjE-2yoj",
    "outputId": "fbf43578-c4d6-4d61-f30e-62a0d60d207e"
   },
   "outputs": [
    {
     "name": "stdout",
     "output_type": "stream",
     "text": [
      "WARNING:tensorflow:Compiled the loaded model, but the compiled metrics have yet to be built. `model.compile_metrics` will be empty until you train or evaluate the model.\n",
      "INFO:tensorflow:Assets written to: /content/drive/MyDrive/Netflix/at2v_embedding.model/assets\n"
     ]
    }
   ],
   "source": [
    "embedding_model.save(SAVE_PATH+'at2v_embedding.model')"
   ]
  },
  {
   "cell_type": "code",
   "execution_count": null,
   "metadata": {
    "colab": {
     "base_uri": "https://localhost:8080/"
    },
    "executionInfo": {
     "elapsed": 452,
     "status": "ok",
     "timestamp": 1655288473776,
     "user": {
      "displayName": "changhee han",
      "userId": "07565524867850934674"
     },
     "user_tz": -540
    },
    "id": "B-QwX3oGQPhr",
    "outputId": "ae828e07-1056-4843-d88b-f99ed1c1f778"
   },
   "outputs": [
    {
     "name": "stdout",
     "output_type": "stream",
     "text": [
      "133/133 [==============================] - 0s 2ms/step\n"
     ]
    }
   ],
   "source": [
    "node_ids = node_features.index\n",
    "node_gen = Attri2VecNodeGenerator(G_all, batch_size).flow(node_ids)\n",
    "node_embeddings = embedding_model.predict(node_gen, workers=4, verbose=1)"
   ]
  },
  {
   "cell_type": "code",
   "execution_count": null,
   "metadata": {
    "colab": {
     "base_uri": "https://localhost:8080/"
    },
    "executionInfo": {
     "elapsed": 4547,
     "status": "ok",
     "timestamp": 1655288907631,
     "user": {
      "displayName": "changhee han",
      "userId": "07565524867850934674"
     },
     "user_tz": -540
    },
    "id": "gyo6CDQxjjtI",
    "outputId": "6ac7806e-c45e-422f-948a-2aea40734c65"
   },
   "outputs": [
    {
     "name": "stdout",
     "output_type": "stream",
     "text": [
      "** Sampled 40189 positive and 40189 negative edges. **\n"
     ]
    }
   ],
   "source": [
    "edge_splitter_sub = EdgeSplitter(G_sub)\n",
    "_, edge_ids_sub, edge_labels_sub = edge_splitter_sub.train_test_split(\n",
    "    p=0.5, method=\"global\", keep_connected=True\n",
    ")\n",
    "\n",
    "edge_labels_sub=edge_labels_sub.reshape(-1,1)\n",
    "in_sample_edges=np.concatenate((edge_ids_sub, edge_labels_sub), axis=1)"
   ]
  },
  {
   "cell_type": "code",
   "execution_count": null,
   "metadata": {
    "colab": {
     "base_uri": "https://localhost:8080/"
    },
    "executionInfo": {
     "elapsed": 14665,
     "status": "ok",
     "timestamp": 1655288929335,
     "user": {
      "displayName": "changhee han",
      "userId": "07565524867850934674"
     },
     "user_tz": -540
    },
    "id": "s0emm6xwjzGs",
    "outputId": "787f7fc5-d0b3-444a-a22b-29d5b3dd801b"
   },
   "outputs": [
    {
     "name": "stdout",
     "output_type": "stream",
     "text": [
      "** Sampled 133963 positive and 133963 negative edges. **\n"
     ]
    }
   ],
   "source": [
    "edge_splitter_all = EdgeSplitter(G_all)\n",
    "_, edge_ids_all, edge_labels_all = edge_splitter_all.train_test_split(\n",
    "    p=0.5, method=\"global\", keep_connected=True\n",
    ")\n",
    "\n",
    "edge_labels_all=edge_labels_all.reshape(-1,1)\n",
    "out_of_sample_edges=np.concatenate((edge_ids_all, edge_labels_all), axis=1)"
   ]
  },
  {
   "cell_type": "code",
   "execution_count": null,
   "metadata": {
    "id": "crsFRKLElTJm"
   },
   "outputs": [],
   "source": [
    "in_sample_edge_feat_from_emb = (\n",
    "    node_embeddings[-1+in_sample_edges[:, 0]] \n",
    "    - node_embeddings[-1+in_sample_edges[:, 1]]\n",
    ") ** 2\n",
    "out_of_sample_edge_feat_from_emb = (\n",
    "    node_embeddings[-1+out_of_sample_edges[:, 0]]\n",
    "    - node_embeddings[-1+out_of_sample_edges[:, 1]]\n",
    ") ** 2"
   ]
  },
  {
   "cell_type": "code",
   "execution_count": null,
   "metadata": {
    "id": "veW60jn6lmov"
   },
   "outputs": [],
   "source": [
    "#logistic regression\n",
    "clf_edge_pred_from_emb = LogisticRegression(\n",
    "    verbose=0, solver=\"lbfgs\", multi_class=\"auto\", max_iter=500\n",
    ")\n",
    "clf_edge_pred_from_emb.fit(in_sample_edge_feat_from_emb, in_sample_edges[:, 2])\n",
    "\n",
    "# logistic\n",
    "edge_pred_from_emb = clf_edge_pred_from_emb.predict_proba(\n",
    "    out_of_sample_edge_feat_from_emb\n",
    ")"
   ]
  },
  {
   "cell_type": "code",
   "execution_count": null,
   "metadata": {
    "colab": {
     "base_uri": "https://localhost:8080/"
    },
    "executionInfo": {
     "elapsed": 124002,
     "status": "ok",
     "timestamp": 1655289069992,
     "user": {
      "displayName": "changhee han",
      "userId": "07565524867850934674"
     },
     "user_tz": -540
    },
    "id": "IXDpQOgYN_sO",
    "outputId": "44f9416e-be4f-4bdd-b9f5-5b197ed08720"
   },
   "outputs": [
    {
     "name": "stderr",
     "output_type": "stream",
     "text": [
      "/usr/local/lib/python3.7/dist-packages/sklearn/svm/_base.py:289: ConvergenceWarning: Solver terminated early (max_iter=1000).  Consider pre-processing your data with StandardScaler or MinMaxScaler.\n",
      "  ConvergenceWarning,\n"
     ]
    },
    {
     "data": {
      "text/plain": [
       "SVC(kernel='linear', max_iter=1000, probability=True)"
      ]
     },
     "execution_count": 43,
     "metadata": {},
     "output_type": "execute_result"
    }
   ],
   "source": [
    "# svm classfiieer \n",
    "clf_edge_pred_from_emb = SVC(\n",
    "    kernel='linear',\n",
    "    max_iter=1000,\n",
    "    probability=True\n",
    ")\n",
    "clf_edge_pred_from_emb.fit(in_sample_edge_feat_from_emb, in_sample_edges[:, 2])\n",
    "\n"
   ]
  },
  {
   "cell_type": "code",
   "execution_count": null,
   "metadata": {
    "id": "MKRXZ9k7meXv"
   },
   "outputs": [],
   "source": [
    "# svm\n",
    "edge_pred_from_emb = clf_edge_pred_from_emb.predict_proba(\n",
    "    out_of_sample_edge_feat_from_emb\n",
    ")"
   ]
  },
  {
   "cell_type": "code",
   "execution_count": null,
   "metadata": {
    "colab": {
     "base_uri": "https://localhost:8080/"
    },
    "executionInfo": {
     "elapsed": 412,
     "status": "ok",
     "timestamp": 1655289422917,
     "user": {
      "displayName": "changhee han",
      "userId": "07565524867850934674"
     },
     "user_tz": -540
    },
    "id": "NxBAOVOD79L6",
    "outputId": "f45f4159-73bb-4003-8c9a-bdc1a9143388"
   },
   "outputs": [
    {
     "data": {
      "text/plain": [
       "SVC(kernel='linear', max_iter=1000, probability=True)"
      ]
     },
     "execution_count": 49,
     "metadata": {},
     "output_type": "execute_result"
    }
   ],
   "source": [
    "#save embedding \n",
    "with open('clf_at2v.pkl', 'wb') as f:\n",
    "    pickle.dump(clf_edge_pred_from_emb,f)\n",
    "\n",
    "clf_edge_pred_from_emb"
   ]
  },
  {
   "cell_type": "code",
   "execution_count": null,
   "metadata": {
    "id": "yl773V0HnGEU"
   },
   "outputs": [],
   "source": [
    "if clf_edge_pred_from_emb.classes_[0] == 1:\n",
    "    positive_class_index = 0\n",
    "else:\n",
    "    positive_class_index = 1"
   ]
  },
  {
   "cell_type": "code",
   "execution_count": null,
   "metadata": {
    "colab": {
     "base_uri": "https://localhost:8080/"
    },
    "executionInfo": {
     "elapsed": 417,
     "status": "ok",
     "timestamp": 1655289110241,
     "user": {
      "displayName": "changhee han",
      "userId": "07565524867850934674"
     },
     "user_tz": -540
    },
    "id": "5tBMN38MnIPW",
    "outputId": "da8fb2c0-9102-4e4b-c3a3-224ed6d4b90f"
   },
   "outputs": [
    {
     "name": "stdout",
     "output_type": "stream",
     "text": [
      "AUC : 0.5042857505644577\n"
     ]
    }
   ],
   "source": [
    "auc=roc_auc_score(out_of_sample_edges[:, 2], edge_pred_from_emb[:, positive_class_index])\n",
    "print('AUC : '+str(auc))"
   ]
  },
  {
   "cell_type": "code",
   "execution_count": null,
   "metadata": {
    "id": "hmnMjpuLy_bX"
   },
   "outputs": [],
   "source": [
    "\n",
    "pred=edge_pred_from_emb[:, positive_class_index]\n",
    "\n",
    "prediction=[]\n",
    "for i in range(len(pred)):\n",
    "    if pred[i]>=0.5:\n",
    "        answer=1\n",
    "    else:\n",
    "        answer=0\n",
    "    prediction.append(answer)\n",
    "prediction=np.array(prediction)\n",
    "true=out_of_sample_edges[:, 2]"
   ]
  },
  {
   "cell_type": "code",
   "execution_count": null,
   "metadata": {
    "colab": {
     "base_uri": "https://localhost:8080/"
    },
    "executionInfo": {
     "elapsed": 2,
     "status": "ok",
     "timestamp": 1655289119902,
     "user": {
      "displayName": "changhee han",
      "userId": "07565524867850934674"
     },
     "user_tz": -540
    },
    "id": "1PCgD5VSoH6O",
    "outputId": "57dca480-e610-4ddc-cf05-4c77c4c41c42"
   },
   "outputs": [
    {
     "data": {
      "text/plain": [
       "0.4808715839448206"
      ]
     },
     "execution_count": 48,
     "metadata": {},
     "output_type": "execute_result"
    }
   ],
   "source": [
    "accuracy_score(true, prediction)"
   ]
  }
 ],
 "metadata": {
  "accelerator": "GPU",
  "colab": {
   "authorship_tag": "ABX9TyP+EzQIZt2TVBe1asdTd07s",
   "collapsed_sections": [],
   "machine_shape": "hm",
   "mount_file_id": "1QuQWxqx57xBkXpTGenFQJlKi2Q5A_KbF",
   "provenance": []
  },
  "kernelspec": {
   "display_name": "Python 3",
   "language": "python",
   "name": "python3"
  },
  "language_info": {
   "codemirror_mode": {
    "name": "ipython",
    "version": 3
   },
   "file_extension": ".py",
   "mimetype": "text/x-python",
   "name": "python",
   "nbconvert_exporter": "python",
   "pygments_lexer": "ipython3",
   "version": "3.6.12"
  }
 },
 "nbformat": 4,
 "nbformat_minor": 4
}
