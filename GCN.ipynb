{
 "cells": [
  {
   "cell_type": "code",
   "execution_count": null,
   "metadata": {
    "id": "EiA7LoW8he_-"
   },
   "outputs": [],
   "source": [
    "!pip install stellargraph"
   ]
  },
  {
   "cell_type": "code",
   "execution_count": 2,
   "metadata": {
    "colab": {
     "base_uri": "https://localhost:8080/"
    },
    "executionInfo": {
     "elapsed": 20911,
     "status": "ok",
     "timestamp": 1663371139587,
     "user": {
      "displayName": "changhee han",
      "userId": "07565524867850934674"
     },
     "user_tz": 300
    },
    "id": "ujAHZ-9gh2rc",
    "outputId": "6bedee65-d2be-4c67-a961-dca62f0065fe"
   },
   "outputs": [
    {
     "name": "stdout",
     "output_type": "stream",
     "text": [
      "Mounted at /content/drive\n"
     ]
    }
   ],
   "source": [
    "import os \n",
    "import pandas as pd\n",
    "from stellargraph import StellarGraph "
   ]
  },
  {
   "cell_type": "code",
   "execution_count": 3,
   "metadata": {},
   "outputs": [],
   "source": [
    "DATA_PATH=os.path.join(os.getcwd(),'DATA/')\n",
    "SAVE_PATH=os.path.join(os.getcwd(),'saved_model/')\n",
    "Result_PATH=os.path.join(os.getcwd(),'Result/')"
   ]
  },
  {
   "cell_type": "code",
   "execution_count": 3,
   "metadata": {
    "executionInfo": {
     "elapsed": 1698,
     "status": "ok",
     "timestamp": 1663371148369,
     "user": {
      "displayName": "changhee han",
      "userId": "07565524867850934674"
     },
     "user_tz": 300
    },
    "id": "ifzSseLohTUD"
   },
   "outputs": [],
   "source": [
    "edges_data=pd.read_csv(DATA_PATH+'sample.csv')\n",
    "node_feature=pd.read_csv(DATA_PATH+'sample_feature.csv')\n",
    "#node_feature=node_feature.drop_duplicates(subset=['index'])\n",
    "node_features = node_feature.set_index(keys=['index'], inplace=False, drop=True)"
   ]
  },
  {
   "cell_type": "code",
   "execution_count": 4,
   "metadata": {
    "colab": {
     "base_uri": "https://localhost:8080/",
     "height": 331
    },
    "executionInfo": {
     "elapsed": 87,
     "status": "ok",
     "timestamp": 1663371157147,
     "user": {
      "displayName": "changhee han",
      "userId": "07565524867850934674"
     },
     "user_tz": 300
    },
    "id": "YAbQoiu4h6kC",
    "outputId": "24cf8512-c40e-478d-eae1-d3cd974f977b"
   },
   "outputs": [
    {
     "data": {
      "text/html": [
       "\n",
       "  <div id=\"df-8e84e803-2d19-4650-9f4a-5af5e14a8ae0\">\n",
       "    <div class=\"colab-df-container\">\n",
       "      <div>\n",
       "<style scoped>\n",
       "    .dataframe tbody tr th:only-of-type {\n",
       "        vertical-align: middle;\n",
       "    }\n",
       "\n",
       "    .dataframe tbody tr th {\n",
       "        vertical-align: top;\n",
       "    }\n",
       "\n",
       "    .dataframe thead th {\n",
       "        text-align: right;\n",
       "    }\n",
       "</style>\n",
       "<table border=\"1\" class=\"dataframe\">\n",
       "  <thead>\n",
       "    <tr style=\"text-align: right;\">\n",
       "      <th></th>\n",
       "      <th>1</th>\n",
       "      <th>2</th>\n",
       "      <th>3</th>\n",
       "      <th>4</th>\n",
       "      <th>5</th>\n",
       "      <th>6</th>\n",
       "      <th>7</th>\n",
       "      <th>8</th>\n",
       "      <th>9</th>\n",
       "      <th>10</th>\n",
       "      <th>...</th>\n",
       "      <th>290</th>\n",
       "      <th>291</th>\n",
       "      <th>292</th>\n",
       "      <th>293</th>\n",
       "      <th>294</th>\n",
       "      <th>295</th>\n",
       "      <th>296</th>\n",
       "      <th>297</th>\n",
       "      <th>298</th>\n",
       "      <th>299</th>\n",
       "    </tr>\n",
       "    <tr>\n",
       "      <th>index</th>\n",
       "      <th></th>\n",
       "      <th></th>\n",
       "      <th></th>\n",
       "      <th></th>\n",
       "      <th></th>\n",
       "      <th></th>\n",
       "      <th></th>\n",
       "      <th></th>\n",
       "      <th></th>\n",
       "      <th></th>\n",
       "      <th></th>\n",
       "      <th></th>\n",
       "      <th></th>\n",
       "      <th></th>\n",
       "      <th></th>\n",
       "      <th></th>\n",
       "      <th></th>\n",
       "      <th></th>\n",
       "      <th></th>\n",
       "      <th></th>\n",
       "      <th></th>\n",
       "    </tr>\n",
       "  </thead>\n",
       "  <tbody>\n",
       "    <tr>\n",
       "      <th>5887</th>\n",
       "      <td>-0.168308</td>\n",
       "      <td>0.453490</td>\n",
       "      <td>-0.095535</td>\n",
       "      <td>0.290504</td>\n",
       "      <td>-0.894610</td>\n",
       "      <td>0.103735</td>\n",
       "      <td>-0.280093</td>\n",
       "      <td>0.074014</td>\n",
       "      <td>0.503019</td>\n",
       "      <td>0.367744</td>\n",
       "      <td>...</td>\n",
       "      <td>-0.163552</td>\n",
       "      <td>-0.086980</td>\n",
       "      <td>-0.145552</td>\n",
       "      <td>0.070703</td>\n",
       "      <td>0.141626</td>\n",
       "      <td>0.001629</td>\n",
       "      <td>-0.096676</td>\n",
       "      <td>-0.052995</td>\n",
       "      <td>-0.112178</td>\n",
       "      <td>-0.090999</td>\n",
       "    </tr>\n",
       "    <tr>\n",
       "      <th>3426</th>\n",
       "      <td>2.397051</td>\n",
       "      <td>0.090396</td>\n",
       "      <td>1.236613</td>\n",
       "      <td>0.839081</td>\n",
       "      <td>0.093752</td>\n",
       "      <td>0.323479</td>\n",
       "      <td>-0.483196</td>\n",
       "      <td>-0.176435</td>\n",
       "      <td>-0.552185</td>\n",
       "      <td>0.748059</td>\n",
       "      <td>...</td>\n",
       "      <td>0.584843</td>\n",
       "      <td>0.119463</td>\n",
       "      <td>-0.409786</td>\n",
       "      <td>0.380476</td>\n",
       "      <td>-0.362136</td>\n",
       "      <td>0.192507</td>\n",
       "      <td>0.413073</td>\n",
       "      <td>-0.362811</td>\n",
       "      <td>-0.028254</td>\n",
       "      <td>0.358826</td>\n",
       "    </tr>\n",
       "    <tr>\n",
       "      <th>6340</th>\n",
       "      <td>0.844389</td>\n",
       "      <td>2.615271</td>\n",
       "      <td>0.093406</td>\n",
       "      <td>-1.072956</td>\n",
       "      <td>-0.955502</td>\n",
       "      <td>0.727380</td>\n",
       "      <td>-0.141938</td>\n",
       "      <td>-0.092633</td>\n",
       "      <td>0.751066</td>\n",
       "      <td>-1.077170</td>\n",
       "      <td>...</td>\n",
       "      <td>0.114912</td>\n",
       "      <td>-0.324140</td>\n",
       "      <td>-0.153945</td>\n",
       "      <td>0.141717</td>\n",
       "      <td>0.199205</td>\n",
       "      <td>-0.725853</td>\n",
       "      <td>-0.691025</td>\n",
       "      <td>0.233834</td>\n",
       "      <td>0.390434</td>\n",
       "      <td>-0.268641</td>\n",
       "    </tr>\n",
       "    <tr>\n",
       "      <th>7031</th>\n",
       "      <td>-0.560994</td>\n",
       "      <td>0.060390</td>\n",
       "      <td>-0.311671</td>\n",
       "      <td>0.110356</td>\n",
       "      <td>0.077707</td>\n",
       "      <td>0.342163</td>\n",
       "      <td>-0.432374</td>\n",
       "      <td>0.023661</td>\n",
       "      <td>0.243273</td>\n",
       "      <td>-0.051051</td>\n",
       "      <td>...</td>\n",
       "      <td>0.007316</td>\n",
       "      <td>0.084201</td>\n",
       "      <td>0.145957</td>\n",
       "      <td>0.006628</td>\n",
       "      <td>-0.108482</td>\n",
       "      <td>-0.102031</td>\n",
       "      <td>0.008283</td>\n",
       "      <td>-0.010563</td>\n",
       "      <td>0.212869</td>\n",
       "      <td>0.000766</td>\n",
       "    </tr>\n",
       "    <tr>\n",
       "      <th>7994</th>\n",
       "      <td>2.597059</td>\n",
       "      <td>3.824801</td>\n",
       "      <td>1.423339</td>\n",
       "      <td>1.348240</td>\n",
       "      <td>-2.891339</td>\n",
       "      <td>-0.556217</td>\n",
       "      <td>0.250086</td>\n",
       "      <td>-0.015109</td>\n",
       "      <td>1.021333</td>\n",
       "      <td>0.098333</td>\n",
       "      <td>...</td>\n",
       "      <td>-0.350584</td>\n",
       "      <td>-1.176642</td>\n",
       "      <td>1.377007</td>\n",
       "      <td>-1.279261</td>\n",
       "      <td>1.606988</td>\n",
       "      <td>-0.253019</td>\n",
       "      <td>0.147770</td>\n",
       "      <td>1.038439</td>\n",
       "      <td>0.548416</td>\n",
       "      <td>-1.134808</td>\n",
       "    </tr>\n",
       "  </tbody>\n",
       "</table>\n",
       "<p>5 rows × 299 columns</p>\n",
       "</div>\n",
       "      <button class=\"colab-df-convert\" onclick=\"convertToInteractive('df-8e84e803-2d19-4650-9f4a-5af5e14a8ae0')\"\n",
       "              title=\"Convert this dataframe to an interactive table.\"\n",
       "              style=\"display:none;\">\n",
       "        \n",
       "  <svg xmlns=\"http://www.w3.org/2000/svg\" height=\"24px\"viewBox=\"0 0 24 24\"\n",
       "       width=\"24px\">\n",
       "    <path d=\"M0 0h24v24H0V0z\" fill=\"none\"/>\n",
       "    <path d=\"M18.56 5.44l.94 2.06.94-2.06 2.06-.94-2.06-.94-.94-2.06-.94 2.06-2.06.94zm-11 1L8.5 8.5l.94-2.06 2.06-.94-2.06-.94L8.5 2.5l-.94 2.06-2.06.94zm10 10l.94 2.06.94-2.06 2.06-.94-2.06-.94-.94-2.06-.94 2.06-2.06.94z\"/><path d=\"M17.41 7.96l-1.37-1.37c-.4-.4-.92-.59-1.43-.59-.52 0-1.04.2-1.43.59L10.3 9.45l-7.72 7.72c-.78.78-.78 2.05 0 2.83L4 21.41c.39.39.9.59 1.41.59.51 0 1.02-.2 1.41-.59l7.78-7.78 2.81-2.81c.8-.78.8-2.07 0-2.86zM5.41 20L4 18.59l7.72-7.72 1.47 1.35L5.41 20z\"/>\n",
       "  </svg>\n",
       "      </button>\n",
       "      \n",
       "  <style>\n",
       "    .colab-df-container {\n",
       "      display:flex;\n",
       "      flex-wrap:wrap;\n",
       "      gap: 12px;\n",
       "    }\n",
       "\n",
       "    .colab-df-convert {\n",
       "      background-color: #E8F0FE;\n",
       "      border: none;\n",
       "      border-radius: 50%;\n",
       "      cursor: pointer;\n",
       "      display: none;\n",
       "      fill: #1967D2;\n",
       "      height: 32px;\n",
       "      padding: 0 0 0 0;\n",
       "      width: 32px;\n",
       "    }\n",
       "\n",
       "    .colab-df-convert:hover {\n",
       "      background-color: #E2EBFA;\n",
       "      box-shadow: 0px 1px 2px rgba(60, 64, 67, 0.3), 0px 1px 3px 1px rgba(60, 64, 67, 0.15);\n",
       "      fill: #174EA6;\n",
       "    }\n",
       "\n",
       "    [theme=dark] .colab-df-convert {\n",
       "      background-color: #3B4455;\n",
       "      fill: #D2E3FC;\n",
       "    }\n",
       "\n",
       "    [theme=dark] .colab-df-convert:hover {\n",
       "      background-color: #434B5C;\n",
       "      box-shadow: 0px 1px 3px 1px rgba(0, 0, 0, 0.15);\n",
       "      filter: drop-shadow(0px 1px 2px rgba(0, 0, 0, 0.3));\n",
       "      fill: #FFFFFF;\n",
       "    }\n",
       "  </style>\n",
       "\n",
       "      <script>\n",
       "        const buttonEl =\n",
       "          document.querySelector('#df-8e84e803-2d19-4650-9f4a-5af5e14a8ae0 button.colab-df-convert');\n",
       "        buttonEl.style.display =\n",
       "          google.colab.kernel.accessAllowed ? 'block' : 'none';\n",
       "\n",
       "        async function convertToInteractive(key) {\n",
       "          const element = document.querySelector('#df-8e84e803-2d19-4650-9f4a-5af5e14a8ae0');\n",
       "          const dataTable =\n",
       "            await google.colab.kernel.invokeFunction('convertToInteractive',\n",
       "                                                     [key], {});\n",
       "          if (!dataTable) return;\n",
       "\n",
       "          const docLinkHtml = 'Like what you see? Visit the ' +\n",
       "            '<a target=\"_blank\" href=https://colab.research.google.com/notebooks/data_table.ipynb>data table notebook</a>'\n",
       "            + ' to learn more about interactive tables.';\n",
       "          element.innerHTML = '';\n",
       "          dataTable['output_type'] = 'display_data';\n",
       "          await google.colab.output.renderOutput(dataTable, element);\n",
       "          const docLink = document.createElement('div');\n",
       "          docLink.innerHTML = docLinkHtml;\n",
       "          element.appendChild(docLink);\n",
       "        }\n",
       "      </script>\n",
       "    </div>\n",
       "  </div>\n",
       "  "
      ],
      "text/plain": [
       "              1         2         3         4         5         6         7  \\\n",
       "index                                                                         \n",
       "5887  -0.168308  0.453490 -0.095535  0.290504 -0.894610  0.103735 -0.280093   \n",
       "3426   2.397051  0.090396  1.236613  0.839081  0.093752  0.323479 -0.483196   \n",
       "6340   0.844389  2.615271  0.093406 -1.072956 -0.955502  0.727380 -0.141938   \n",
       "7031  -0.560994  0.060390 -0.311671  0.110356  0.077707  0.342163 -0.432374   \n",
       "7994   2.597059  3.824801  1.423339  1.348240 -2.891339 -0.556217  0.250086   \n",
       "\n",
       "              8         9        10  ...       290       291       292  \\\n",
       "index                                ...                                 \n",
       "5887   0.074014  0.503019  0.367744  ... -0.163552 -0.086980 -0.145552   \n",
       "3426  -0.176435 -0.552185  0.748059  ...  0.584843  0.119463 -0.409786   \n",
       "6340  -0.092633  0.751066 -1.077170  ...  0.114912 -0.324140 -0.153945   \n",
       "7031   0.023661  0.243273 -0.051051  ...  0.007316  0.084201  0.145957   \n",
       "7994  -0.015109  1.021333  0.098333  ... -0.350584 -1.176642  1.377007   \n",
       "\n",
       "            293       294       295       296       297       298       299  \n",
       "index                                                                        \n",
       "5887   0.070703  0.141626  0.001629 -0.096676 -0.052995 -0.112178 -0.090999  \n",
       "3426   0.380476 -0.362136  0.192507  0.413073 -0.362811 -0.028254  0.358826  \n",
       "6340   0.141717  0.199205 -0.725853 -0.691025  0.233834  0.390434 -0.268641  \n",
       "7031   0.006628 -0.108482 -0.102031  0.008283 -0.010563  0.212869  0.000766  \n",
       "7994  -1.279261  1.606988 -0.253019  0.147770  1.038439  0.548416 -1.134808  \n",
       "\n",
       "[5 rows x 299 columns]"
      ]
     },
     "execution_count": 4,
     "metadata": {},
     "output_type": "execute_result"
    }
   ],
   "source": [
    "node_features.head()"
   ]
  },
  {
   "cell_type": "code",
   "execution_count": 8,
   "metadata": {
    "colab": {
     "base_uri": "https://localhost:8080/",
     "height": 206
    },
    "executionInfo": {
     "elapsed": 313,
     "status": "ok",
     "timestamp": 1663371202898,
     "user": {
      "displayName": "changhee han",
      "userId": "07565524867850934674"
     },
     "user_tz": 300
    },
    "id": "iJL0tElMmF9w",
    "outputId": "cbd5b656-8ab3-4e74-9bee-ba450803aeec"
   },
   "outputs": [
    {
     "data": {
      "text/html": [
       "\n",
       "  <div id=\"df-c37d95a3-3ae6-4530-b53b-1e98a4417d6a\">\n",
       "    <div class=\"colab-df-container\">\n",
       "      <div>\n",
       "<style scoped>\n",
       "    .dataframe tbody tr th:only-of-type {\n",
       "        vertical-align: middle;\n",
       "    }\n",
       "\n",
       "    .dataframe tbody tr th {\n",
       "        vertical-align: top;\n",
       "    }\n",
       "\n",
       "    .dataframe thead th {\n",
       "        text-align: right;\n",
       "    }\n",
       "</style>\n",
       "<table border=\"1\" class=\"dataframe\">\n",
       "  <thead>\n",
       "    <tr style=\"text-align: right;\">\n",
       "      <th></th>\n",
       "      <th>target</th>\n",
       "      <th>source</th>\n",
       "    </tr>\n",
       "  </thead>\n",
       "  <tbody>\n",
       "    <tr>\n",
       "      <th>0</th>\n",
       "      <td>2</td>\n",
       "      <td>3</td>\n",
       "    </tr>\n",
       "    <tr>\n",
       "      <th>1</th>\n",
       "      <td>3</td>\n",
       "      <td>4</td>\n",
       "    </tr>\n",
       "    <tr>\n",
       "      <th>2</th>\n",
       "      <td>4</td>\n",
       "      <td>5</td>\n",
       "    </tr>\n",
       "    <tr>\n",
       "      <th>3</th>\n",
       "      <td>5</td>\n",
       "      <td>6</td>\n",
       "    </tr>\n",
       "    <tr>\n",
       "      <th>4</th>\n",
       "      <td>6</td>\n",
       "      <td>7</td>\n",
       "    </tr>\n",
       "  </tbody>\n",
       "</table>\n",
       "</div>\n",
       "      <button class=\"colab-df-convert\" onclick=\"convertToInteractive('df-c37d95a3-3ae6-4530-b53b-1e98a4417d6a')\"\n",
       "              title=\"Convert this dataframe to an interactive table.\"\n",
       "              style=\"display:none;\">\n",
       "        \n",
       "  <svg xmlns=\"http://www.w3.org/2000/svg\" height=\"24px\"viewBox=\"0 0 24 24\"\n",
       "       width=\"24px\">\n",
       "    <path d=\"M0 0h24v24H0V0z\" fill=\"none\"/>\n",
       "    <path d=\"M18.56 5.44l.94 2.06.94-2.06 2.06-.94-2.06-.94-.94-2.06-.94 2.06-2.06.94zm-11 1L8.5 8.5l.94-2.06 2.06-.94-2.06-.94L8.5 2.5l-.94 2.06-2.06.94zm10 10l.94 2.06.94-2.06 2.06-.94-2.06-.94-.94-2.06-.94 2.06-2.06.94z\"/><path d=\"M17.41 7.96l-1.37-1.37c-.4-.4-.92-.59-1.43-.59-.52 0-1.04.2-1.43.59L10.3 9.45l-7.72 7.72c-.78.78-.78 2.05 0 2.83L4 21.41c.39.39.9.59 1.41.59.51 0 1.02-.2 1.41-.59l7.78-7.78 2.81-2.81c.8-.78.8-2.07 0-2.86zM5.41 20L4 18.59l7.72-7.72 1.47 1.35L5.41 20z\"/>\n",
       "  </svg>\n",
       "      </button>\n",
       "      \n",
       "  <style>\n",
       "    .colab-df-container {\n",
       "      display:flex;\n",
       "      flex-wrap:wrap;\n",
       "      gap: 12px;\n",
       "    }\n",
       "\n",
       "    .colab-df-convert {\n",
       "      background-color: #E8F0FE;\n",
       "      border: none;\n",
       "      border-radius: 50%;\n",
       "      cursor: pointer;\n",
       "      display: none;\n",
       "      fill: #1967D2;\n",
       "      height: 32px;\n",
       "      padding: 0 0 0 0;\n",
       "      width: 32px;\n",
       "    }\n",
       "\n",
       "    .colab-df-convert:hover {\n",
       "      background-color: #E2EBFA;\n",
       "      box-shadow: 0px 1px 2px rgba(60, 64, 67, 0.3), 0px 1px 3px 1px rgba(60, 64, 67, 0.15);\n",
       "      fill: #174EA6;\n",
       "    }\n",
       "\n",
       "    [theme=dark] .colab-df-convert {\n",
       "      background-color: #3B4455;\n",
       "      fill: #D2E3FC;\n",
       "    }\n",
       "\n",
       "    [theme=dark] .colab-df-convert:hover {\n",
       "      background-color: #434B5C;\n",
       "      box-shadow: 0px 1px 3px 1px rgba(0, 0, 0, 0.15);\n",
       "      filter: drop-shadow(0px 1px 2px rgba(0, 0, 0, 0.3));\n",
       "      fill: #FFFFFF;\n",
       "    }\n",
       "  </style>\n",
       "\n",
       "      <script>\n",
       "        const buttonEl =\n",
       "          document.querySelector('#df-c37d95a3-3ae6-4530-b53b-1e98a4417d6a button.colab-df-convert');\n",
       "        buttonEl.style.display =\n",
       "          google.colab.kernel.accessAllowed ? 'block' : 'none';\n",
       "\n",
       "        async function convertToInteractive(key) {\n",
       "          const element = document.querySelector('#df-c37d95a3-3ae6-4530-b53b-1e98a4417d6a');\n",
       "          const dataTable =\n",
       "            await google.colab.kernel.invokeFunction('convertToInteractive',\n",
       "                                                     [key], {});\n",
       "          if (!dataTable) return;\n",
       "\n",
       "          const docLinkHtml = 'Like what you see? Visit the ' +\n",
       "            '<a target=\"_blank\" href=https://colab.research.google.com/notebooks/data_table.ipynb>data table notebook</a>'\n",
       "            + ' to learn more about interactive tables.';\n",
       "          element.innerHTML = '';\n",
       "          dataTable['output_type'] = 'display_data';\n",
       "          await google.colab.output.renderOutput(dataTable, element);\n",
       "          const docLink = document.createElement('div');\n",
       "          docLink.innerHTML = docLinkHtml;\n",
       "          element.appendChild(docLink);\n",
       "        }\n",
       "      </script>\n",
       "    </div>\n",
       "  </div>\n",
       "  "
      ],
      "text/plain": [
       "   target  source\n",
       "0       2       3\n",
       "1       3       4\n",
       "2       4       5\n",
       "3       5       6\n",
       "4       6       7"
      ]
     },
     "execution_count": 8,
     "metadata": {},
     "output_type": "execute_result"
    }
   ],
   "source": [
    "edges_data=edges_data.drop_duplicates()\n",
    "edges_data.head()"
   ]
  },
  {
   "cell_type": "code",
   "execution_count": 9,
   "metadata": {
    "executionInfo": {
     "elapsed": 72,
     "status": "ok",
     "timestamp": 1663371204731,
     "user": {
      "displayName": "changhee han",
      "userId": "07565524867850934674"
     },
     "user_tz": 300
    },
    "id": "chSLFdMUh92f"
   },
   "outputs": [],
   "source": [
    "sample = StellarGraph({\"feature\": node_features}, {\"edge\": edges_data})"
   ]
  },
  {
   "cell_type": "code",
   "execution_count": 10,
   "metadata": {
    "colab": {
     "base_uri": "https://localhost:8080/"
    },
    "executionInfo": {
     "elapsed": 281,
     "status": "ok",
     "timestamp": 1663371205744,
     "user": {
      "displayName": "changhee han",
      "userId": "07565524867850934674"
     },
     "user_tz": 300
    },
    "id": "Q0IFXi_dqExg",
    "outputId": "cb9d75e3-9df9-4671-fc5f-f5da62d807e3"
   },
   "outputs": [
    {
     "name": "stdout",
     "output_type": "stream",
     "text": [
      "StellarGraph: Undirected multigraph\n",
      " Nodes: 8472, Edges: 267926\n",
      "\n",
      " Node types:\n",
      "  feature: [8472]\n",
      "    Features: float32 vector, length 299\n",
      "    Edge types: feature-edge->feature\n",
      "\n",
      " Edge types:\n",
      "    feature-edge->feature: [267926]\n",
      "        Weights: all 1 (default)\n",
      "        Features: none\n"
     ]
    }
   ],
   "source": [
    "print(sample.info())"
   ]
  },
  {
   "cell_type": "code",
   "execution_count": 11,
   "metadata": {
    "executionInfo": {
     "elapsed": 66,
     "status": "ok",
     "timestamp": 1663371217805,
     "user": {
      "displayName": "changhee han",
      "userId": "07565524867850934674"
     },
     "user_tz": 300
    },
    "id": "veR6_3LNqdz1"
   },
   "outputs": [],
   "source": [
    "import stellargraph as sg\n",
    "from stellargraph.data import EdgeSplitter\n",
    "from stellargraph.mapper import FullBatchLinkGenerator\n",
    "from stellargraph.layer import GCN, LinkEmbedding\n",
    "\n",
    "from tensorflow import convert_to_tensor\n",
    "from tensorflow import keras\n",
    "from sklearn import preprocessing, feature_extraction, model_selection\n",
    "\n",
    "from stellargraph import globalvar\n",
    "from stellargraph import datasets\n",
    "from IPython.display import display, HTML\n",
    "%matplotlib inline"
   ]
  },
  {
   "cell_type": "code",
   "execution_count": 78,
   "metadata": {
    "executionInfo": {
     "elapsed": 124,
     "status": "ok",
     "timestamp": 1663372006481,
     "user": {
      "displayName": "changhee han",
      "userId": "07565524867850934674"
     },
     "user_tz": 300
    },
    "id": "FOgYoW6esQI_"
   },
   "outputs": [],
   "source": [
    "G=sample\n",
    "sg.random.set_seed(1161)"
   ]
  },
  {
   "cell_type": "code",
   "execution_count": 79,
   "metadata": {
    "colab": {
     "base_uri": "https://localhost:8080/"
    },
    "executionInfo": {
     "elapsed": 15910,
     "status": "ok",
     "timestamp": 1663372023339,
     "user": {
      "displayName": "changhee han",
      "userId": "07565524867850934674"
     },
     "user_tz": 300
    },
    "id": "WBbHlJeTsUNF",
    "outputId": "83d69291-2126-4208-a41f-509163bee181"
   },
   "outputs": [
    {
     "name": "stdout",
     "output_type": "stream",
     "text": [
      "** Sampled 26792 positive and 26792 negative edges. **\n"
     ]
    }
   ],
   "source": [
    "# Define an edge splitter on the original graph G:\n",
    "edge_splitter_test = EdgeSplitter(G)\n",
    "\n",
    "# Randomly sample a fraction p=0.1 of all positive links, and same number of negative links, from G, and obtain the\n",
    "# reduced graph G_test with the sampled links removed:\n",
    "G_test, edge_ids_test, edge_labels_test = edge_splitter_test.train_test_split(\n",
    "    p=0.1, method=\"global\", keep_connected=True\n",
    ")"
   ]
  },
  {
   "cell_type": "code",
   "execution_count": 80,
   "metadata": {
    "colab": {
     "base_uri": "https://localhost:8080/"
    },
    "executionInfo": {
     "elapsed": 12928,
     "status": "ok",
     "timestamp": 1663372036249,
     "user": {
      "displayName": "changhee han",
      "userId": "07565524867850934674"
     },
     "user_tz": 300
    },
    "id": "qkHHe36PsY5x",
    "outputId": "0dd8b429-df2b-42d0-c7f2-6efed73727dc"
   },
   "outputs": [
    {
     "name": "stdout",
     "output_type": "stream",
     "text": [
      "** Sampled 24113 positive and 24113 negative edges. **\n"
     ]
    }
   ],
   "source": [
    "# Define an edge splitter on the reduced graph G_test:\n",
    "edge_splitter_train = EdgeSplitter(G_test)\n",
    "\n",
    "# Randomly sample a fraction p=0.1 of all positive links, and same number of negative links, from G_test, and obtain the\n",
    "# reduced graph G_train with the sampled links removed:\n",
    "G_train, edge_ids_train, edge_labels_train = edge_splitter_train.train_test_split(\n",
    "    p=0.1, method=\"global\", keep_connected=True\n",
    ")"
   ]
  },
  {
   "cell_type": "code",
   "execution_count": 81,
   "metadata": {
    "executionInfo": {
     "elapsed": 4,
     "status": "ok",
     "timestamp": 1663372036250,
     "user": {
      "displayName": "changhee han",
      "userId": "07565524867850934674"
     },
     "user_tz": 300
    },
    "id": "oYc_q3DbsoPM"
   },
   "outputs": [],
   "source": [
    "epochs = 200"
   ]
  },
  {
   "cell_type": "code",
   "execution_count": 82,
   "metadata": {
    "colab": {
     "base_uri": "https://localhost:8080/"
    },
    "executionInfo": {
     "elapsed": 95,
     "status": "ok",
     "timestamp": 1663372036342,
     "user": {
      "displayName": "changhee han",
      "userId": "07565524867850934674"
     },
     "user_tz": 300
    },
    "id": "FMQM3BAisqd8",
    "outputId": "1ee65712-49f3-4f20-dc55-142795a2b7d2"
   },
   "outputs": [
    {
     "name": "stdout",
     "output_type": "stream",
     "text": [
      "Using GCN (local pooling) filters...\n"
     ]
    }
   ],
   "source": [
    "train_gen = FullBatchLinkGenerator(G_train, method=\"gcn\")\n",
    "train_flow = train_gen.flow(edge_ids_train, edge_labels_train)"
   ]
  },
  {
   "cell_type": "code",
   "execution_count": 83,
   "metadata": {
    "colab": {
     "base_uri": "https://localhost:8080/"
    },
    "executionInfo": {
     "elapsed": 82,
     "status": "ok",
     "timestamp": 1663372036421,
     "user": {
      "displayName": "changhee han",
      "userId": "07565524867850934674"
     },
     "user_tz": 300
    },
    "id": "zz0gr_IXssWQ",
    "outputId": "0a953fb9-7172-45c9-c832-ecd235bae968"
   },
   "outputs": [
    {
     "name": "stdout",
     "output_type": "stream",
     "text": [
      "Using GCN (local pooling) filters...\n"
     ]
    }
   ],
   "source": [
    "test_gen = FullBatchLinkGenerator(G_test, method=\"gcn\")\n",
    "test_flow = test_gen.flow(edge_ids_test, edge_labels_test)"
   ]
  },
  {
   "cell_type": "code",
   "execution_count": 101,
   "metadata": {
    "executionInfo": {
     "elapsed": 70,
     "status": "ok",
     "timestamp": 1663373131947,
     "user": {
      "displayName": "changhee han",
      "userId": "07565524867850934674"
     },
     "user_tz": 300
    },
    "id": "YzG_kM0fsumJ"
   },
   "outputs": [],
   "source": [
    "gcn = GCN(\n",
    "    layer_sizes=[128, 64], \n",
    "    activations=[\"relu\", \"relu\"], \n",
    "    generator=train_gen,\n",
    "    dropout=0.3,\n",
    "    kernel_regularizer=keras.regularizers.l2(5e-4)\n",
    ")"
   ]
  },
  {
   "cell_type": "code",
   "execution_count": 102,
   "metadata": {
    "executionInfo": {
     "elapsed": 87,
     "status": "ok",
     "timestamp": 1663373133068,
     "user": {
      "displayName": "changhee han",
      "userId": "07565524867850934674"
     },
     "user_tz": 300
    },
    "id": "WEjZ0LVxswyu"
   },
   "outputs": [],
   "source": [
    "x_inp, x_out = gcn.in_out_tensors()"
   ]
  },
  {
   "cell_type": "code",
   "execution_count": 103,
   "metadata": {
    "executionInfo": {
     "elapsed": 1,
     "status": "ok",
     "timestamp": 1663373133399,
     "user": {
      "displayName": "changhee han",
      "userId": "07565524867850934674"
     },
     "user_tz": 300
    },
    "id": "IiZNxDIBsy3L"
   },
   "outputs": [],
   "source": [
    "prediction = LinkEmbedding(activation=\"sigmoid\", method=\"ip\")(x_out)"
   ]
  },
  {
   "cell_type": "code",
   "execution_count": 104,
   "metadata": {
    "executionInfo": {
     "elapsed": 1,
     "status": "ok",
     "timestamp": 1663373133631,
     "user": {
      "displayName": "changhee han",
      "userId": "07565524867850934674"
     },
     "user_tz": 300
    },
    "id": "8KFC0Pkgs1G5"
   },
   "outputs": [],
   "source": [
    "prediction = keras.layers.Reshape((-1,))(prediction)"
   ]
  },
  {
   "cell_type": "code",
   "execution_count": 105,
   "metadata": {
    "colab": {
     "base_uri": "https://localhost:8080/"
    },
    "executionInfo": {
     "elapsed": 81,
     "status": "ok",
     "timestamp": 1663373134444,
     "user": {
      "displayName": "changhee han",
      "userId": "07565524867850934674"
     },
     "user_tz": 300
    },
    "id": "FVkXvQOTs21h",
    "outputId": "d2a5c82c-0e55-4eac-96bb-ba764214f5be"
   },
   "outputs": [
    {
     "name": "stderr",
     "output_type": "stream",
     "text": [
      "/usr/local/lib/python3.7/dist-packages/keras/optimizer_v2/adam.py:105: UserWarning: The `lr` argument is deprecated, use `learning_rate` instead.\n",
      "  super(Adam, self).__init__(name, **kwargs)\n"
     ]
    }
   ],
   "source": [
    "model = keras.Model(inputs=x_inp, outputs=prediction)\n",
    "\n",
    "model.compile(\n",
    "    optimizer=keras.optimizers.Adam(lr=0.01),\n",
    "    loss=keras.losses.binary_crossentropy,\n",
    "    # not just \"acc\" due to https://github.com/tensorflow/tensorflow/issues/41361\n",
    "    metrics=[\"binary_accuracy\"],\n",
    ")"
   ]
  },
  {
   "cell_type": "code",
   "execution_count": 105,
   "metadata": {
    "executionInfo": {
     "elapsed": 1,
     "status": "ok",
     "timestamp": 1663373137343,
     "user": {
      "displayName": "changhee han",
      "userId": "07565524867850934674"
     },
     "user_tz": 300
    },
    "id": "QSd-X8MZMjNH"
   },
   "outputs": [],
   "source": []
  },
  {
   "cell_type": "code",
   "execution_count": 106,
   "metadata": {
    "colab": {
     "base_uri": "https://localhost:8080/"
    },
    "executionInfo": {
     "elapsed": 473,
     "status": "ok",
     "timestamp": 1663373137984,
     "user": {
      "displayName": "changhee han",
      "userId": "07565524867850934674"
     },
     "user_tz": 300
    },
    "id": "33erPpzhs4-U",
    "outputId": "2179fee8-dd4a-4803-f50a-d600f77bf157"
   },
   "outputs": [
    {
     "name": "stdout",
     "output_type": "stream",
     "text": [
      "1/1 [==============================] - 0s 334ms/step - loss: 0.7509 - binary_accuracy: 0.5000\n",
      "1/1 [==============================] - 0s 57ms/step - loss: 0.7507 - binary_accuracy: 0.5000\n",
      "\n",
      "Train Set Metrics of the initial (untrained) model:\n",
      "\tloss: 0.7509\n",
      "\tbinary_accuracy: 0.5000\n",
      "\n",
      "Test Set Metrics of the initial (untrained) model:\n",
      "\tloss: 0.7507\n",
      "\tbinary_accuracy: 0.5000\n"
     ]
    }
   ],
   "source": [
    "init_train_metrics = model.evaluate(train_flow)\n",
    "init_test_metrics = model.evaluate(test_flow)\n",
    "\n",
    "print(\"\\nTrain Set Metrics of the initial (untrained) model:\")\n",
    "for name, val in zip(model.metrics_names, init_train_metrics):\n",
    "    print(\"\\t{}: {:0.4f}\".format(name, val))\n",
    "\n",
    "print(\"\\nTest Set Metrics of the initial (untrained) model:\")\n",
    "for name, val in zip(model.metrics_names, init_test_metrics):\n",
    "    print(\"\\t{}: {:0.4f}\".format(name, val))"
   ]
  },
  {
   "cell_type": "code",
   "execution_count": 107,
   "metadata": {
    "colab": {
     "base_uri": "https://localhost:8080/"
    },
    "executionInfo": {
     "elapsed": 28709,
     "status": "ok",
     "timestamp": 1663373168686,
     "user": {
      "displayName": "changhee han",
      "userId": "07565524867850934674"
     },
     "user_tz": 300
    },
    "id": "0etp3ItAs7lw",
    "outputId": "23a16973-a61e-4352-ec71-12bc6808325b"
   },
   "outputs": [
    {
     "name": "stdout",
     "output_type": "stream",
     "text": [
      "Epoch 1/200\n",
      "1/1 - 1s - loss: 0.7521 - binary_accuracy: 0.5000 - val_loss: 0.7194 - val_binary_accuracy: 0.5000 - 904ms/epoch - 904ms/step\n",
      "Epoch 2/200\n",
      "1/1 - 0s - loss: 0.7454 - binary_accuracy: 0.5000 - val_loss: 0.6486 - val_binary_accuracy: 0.5046 - 87ms/epoch - 87ms/step\n",
      "Epoch 3/200\n",
      "1/1 - 0s - loss: 0.6579 - binary_accuracy: 0.5010 - val_loss: 0.6385 - val_binary_accuracy: 0.5523 - 87ms/epoch - 87ms/step\n",
      "Epoch 4/200\n",
      "1/1 - 0s - loss: 0.6397 - binary_accuracy: 0.5283 - val_loss: 0.6296 - val_binary_accuracy: 0.5969 - 92ms/epoch - 92ms/step\n",
      "Epoch 5/200\n",
      "1/1 - 0s - loss: 0.6345 - binary_accuracy: 0.5682 - val_loss: 0.6037 - val_binary_accuracy: 0.6140 - 84ms/epoch - 84ms/step\n",
      "Epoch 6/200\n",
      "1/1 - 0s - loss: 0.6058 - binary_accuracy: 0.5954 - val_loss: 0.5825 - val_binary_accuracy: 0.6153 - 91ms/epoch - 91ms/step\n",
      "Epoch 7/200\n",
      "1/1 - 0s - loss: 0.5860 - binary_accuracy: 0.6054 - val_loss: 0.5778 - val_binary_accuracy: 0.6144 - 88ms/epoch - 88ms/step\n",
      "Epoch 8/200\n",
      "1/1 - 0s - loss: 0.5825 - binary_accuracy: 0.6049 - val_loss: 0.5754 - val_binary_accuracy: 0.6263 - 88ms/epoch - 88ms/step\n",
      "Epoch 9/200\n",
      "1/1 - 0s - loss: 0.5778 - binary_accuracy: 0.6220 - val_loss: 0.5650 - val_binary_accuracy: 0.6547 - 84ms/epoch - 84ms/step\n",
      "Epoch 10/200\n",
      "1/1 - 0s - loss: 0.5713 - binary_accuracy: 0.6401 - val_loss: 0.5542 - val_binary_accuracy: 0.6944 - 88ms/epoch - 88ms/step\n",
      "Epoch 11/200\n",
      "1/1 - 0s - loss: 0.5573 - binary_accuracy: 0.6869 - val_loss: 0.5522 - val_binary_accuracy: 0.7287 - 89ms/epoch - 89ms/step\n",
      "Epoch 12/200\n",
      "1/1 - 0s - loss: 0.5554 - binary_accuracy: 0.7148 - val_loss: 0.5514 - val_binary_accuracy: 0.7488 - 90ms/epoch - 90ms/step\n",
      "Epoch 13/200\n",
      "1/1 - 0s - loss: 0.5568 - binary_accuracy: 0.7341 - val_loss: 0.5467 - val_binary_accuracy: 0.7520 - 94ms/epoch - 94ms/step\n",
      "Epoch 14/200\n",
      "1/1 - 0s - loss: 0.5493 - binary_accuracy: 0.7376 - val_loss: 0.5434 - val_binary_accuracy: 0.7483 - 84ms/epoch - 84ms/step\n",
      "Epoch 15/200\n",
      "1/1 - 0s - loss: 0.5451 - binary_accuracy: 0.7384 - val_loss: 0.5435 - val_binary_accuracy: 0.7454 - 88ms/epoch - 88ms/step\n",
      "Epoch 16/200\n",
      "1/1 - 0s - loss: 0.5448 - binary_accuracy: 0.7326 - val_loss: 0.5442 - val_binary_accuracy: 0.7480 - 87ms/epoch - 87ms/step\n",
      "Epoch 17/200\n",
      "1/1 - 0s - loss: 0.5448 - binary_accuracy: 0.7392 - val_loss: 0.5428 - val_binary_accuracy: 0.7577 - 88ms/epoch - 88ms/step\n",
      "Epoch 18/200\n",
      "1/1 - 0s - loss: 0.5451 - binary_accuracy: 0.7409 - val_loss: 0.5390 - val_binary_accuracy: 0.7732 - 83ms/epoch - 83ms/step\n",
      "Epoch 19/200\n",
      "1/1 - 0s - loss: 0.5403 - binary_accuracy: 0.7610 - val_loss: 0.5378 - val_binary_accuracy: 0.7927 - 84ms/epoch - 84ms/step\n",
      "Epoch 20/200\n",
      "1/1 - 0s - loss: 0.5398 - binary_accuracy: 0.7768 - val_loss: 0.5384 - val_binary_accuracy: 0.8035 - 85ms/epoch - 85ms/step\n",
      "Epoch 21/200\n",
      "1/1 - 0s - loss: 0.5403 - binary_accuracy: 0.7877 - val_loss: 0.5364 - val_binary_accuracy: 0.8043 - 87ms/epoch - 87ms/step\n",
      "Epoch 22/200\n",
      "1/1 - 0s - loss: 0.5380 - binary_accuracy: 0.7886 - val_loss: 0.5342 - val_binary_accuracy: 0.8005 - 88ms/epoch - 88ms/step\n",
      "Epoch 23/200\n",
      "1/1 - 0s - loss: 0.5367 - binary_accuracy: 0.7860 - val_loss: 0.5340 - val_binary_accuracy: 0.7919 - 95ms/epoch - 95ms/step\n",
      "Epoch 24/200\n",
      "1/1 - 0s - loss: 0.5359 - binary_accuracy: 0.7757 - val_loss: 0.5340 - val_binary_accuracy: 0.7898 - 85ms/epoch - 85ms/step\n",
      "Epoch 25/200\n",
      "1/1 - 0s - loss: 0.5343 - binary_accuracy: 0.7741 - val_loss: 0.5328 - val_binary_accuracy: 0.7918 - 88ms/epoch - 88ms/step\n",
      "Epoch 26/200\n",
      "1/1 - 0s - loss: 0.5339 - binary_accuracy: 0.7753 - val_loss: 0.5303 - val_binary_accuracy: 0.8013 - 90ms/epoch - 90ms/step\n",
      "Epoch 27/200\n",
      "1/1 - 0s - loss: 0.5317 - binary_accuracy: 0.7834 - val_loss: 0.5293 - val_binary_accuracy: 0.8103 - 89ms/epoch - 89ms/step\n",
      "Epoch 28/200\n",
      "1/1 - 0s - loss: 0.5313 - binary_accuracy: 0.7887 - val_loss: 0.5290 - val_binary_accuracy: 0.8162 - 87ms/epoch - 87ms/step\n",
      "Epoch 29/200\n",
      "1/1 - 0s - loss: 0.5302 - binary_accuracy: 0.7977 - val_loss: 0.5276 - val_binary_accuracy: 0.8152 - 84ms/epoch - 84ms/step\n",
      "Epoch 30/200\n",
      "1/1 - 0s - loss: 0.5292 - binary_accuracy: 0.7891 - val_loss: 0.5264 - val_binary_accuracy: 0.8109 - 91ms/epoch - 91ms/step\n",
      "Epoch 31/200\n",
      "1/1 - 0s - loss: 0.5281 - binary_accuracy: 0.7911 - val_loss: 0.5259 - val_binary_accuracy: 0.8060 - 86ms/epoch - 86ms/step\n",
      "Epoch 32/200\n",
      "1/1 - 0s - loss: 0.5273 - binary_accuracy: 0.7881 - val_loss: 0.5257 - val_binary_accuracy: 0.8021 - 92ms/epoch - 92ms/step\n",
      "Epoch 33/200\n",
      "1/1 - 0s - loss: 0.5276 - binary_accuracy: 0.7791 - val_loss: 0.5249 - val_binary_accuracy: 0.8028 - 89ms/epoch - 89ms/step\n",
      "Epoch 34/200\n",
      "1/1 - 0s - loss: 0.5260 - binary_accuracy: 0.7851 - val_loss: 0.5240 - val_binary_accuracy: 0.8047 - 87ms/epoch - 87ms/step\n",
      "Epoch 35/200\n",
      "1/1 - 0s - loss: 0.5261 - binary_accuracy: 0.7760 - val_loss: 0.5230 - val_binary_accuracy: 0.8141 - 89ms/epoch - 89ms/step\n",
      "Epoch 36/200\n",
      "1/1 - 0s - loss: 0.5260 - binary_accuracy: 0.7915 - val_loss: 0.5224 - val_binary_accuracy: 0.8142 - 86ms/epoch - 86ms/step\n",
      "Epoch 37/200\n",
      "1/1 - 0s - loss: 0.5240 - binary_accuracy: 0.7858 - val_loss: 0.5219 - val_binary_accuracy: 0.8144 - 91ms/epoch - 91ms/step\n",
      "Epoch 38/200\n",
      "1/1 - 0s - loss: 0.5243 - binary_accuracy: 0.7942 - val_loss: 0.5217 - val_binary_accuracy: 0.8059 - 119ms/epoch - 119ms/step\n",
      "Epoch 39/200\n",
      "1/1 - 0s - loss: 0.5235 - binary_accuracy: 0.7788 - val_loss: 0.5211 - val_binary_accuracy: 0.8074 - 88ms/epoch - 88ms/step\n",
      "Epoch 40/200\n",
      "1/1 - 0s - loss: 0.5236 - binary_accuracy: 0.7914 - val_loss: 0.5210 - val_binary_accuracy: 0.8056 - 83ms/epoch - 83ms/step\n",
      "Epoch 41/200\n",
      "1/1 - 0s - loss: 0.5223 - binary_accuracy: 0.7855 - val_loss: 0.5206 - val_binary_accuracy: 0.8068 - 120ms/epoch - 120ms/step\n",
      "Epoch 42/200\n",
      "1/1 - 0s - loss: 0.5229 - binary_accuracy: 0.7802 - val_loss: 0.5196 - val_binary_accuracy: 0.8158 - 91ms/epoch - 91ms/step\n",
      "Epoch 43/200\n",
      "1/1 - 0s - loss: 0.5210 - binary_accuracy: 0.7891 - val_loss: 0.5197 - val_binary_accuracy: 0.8236 - 84ms/epoch - 84ms/step\n",
      "Epoch 44/200\n",
      "1/1 - 0s - loss: 0.5217 - binary_accuracy: 0.7992 - val_loss: 0.5194 - val_binary_accuracy: 0.8249 - 87ms/epoch - 87ms/step\n",
      "Epoch 45/200\n",
      "1/1 - 0s - loss: 0.5211 - binary_accuracy: 0.7961 - val_loss: 0.5186 - val_binary_accuracy: 0.8207 - 86ms/epoch - 86ms/step\n",
      "Epoch 46/200\n",
      "1/1 - 0s - loss: 0.5205 - binary_accuracy: 0.7932 - val_loss: 0.5186 - val_binary_accuracy: 0.8140 - 94ms/epoch - 94ms/step\n",
      "Epoch 47/200\n",
      "1/1 - 0s - loss: 0.5201 - binary_accuracy: 0.7900 - val_loss: 0.5187 - val_binary_accuracy: 0.8114 - 86ms/epoch - 86ms/step\n",
      "Epoch 48/200\n",
      "1/1 - 0s - loss: 0.5199 - binary_accuracy: 0.7879 - val_loss: 0.5180 - val_binary_accuracy: 0.8142 - 89ms/epoch - 89ms/step\n",
      "Epoch 49/200\n",
      "1/1 - 0s - loss: 0.5194 - binary_accuracy: 0.7934 - val_loss: 0.5175 - val_binary_accuracy: 0.8170 - 85ms/epoch - 85ms/step\n",
      "Epoch 50/200\n",
      "1/1 - 0s - loss: 0.5188 - binary_accuracy: 0.7959 - val_loss: 0.5172 - val_binary_accuracy: 0.8210 - 86ms/epoch - 86ms/step\n",
      "Epoch 51/200\n",
      "1/1 - 0s - loss: 0.5190 - binary_accuracy: 0.7934 - val_loss: 0.5174 - val_binary_accuracy: 0.8256 - 91ms/epoch - 91ms/step\n",
      "Epoch 52/200\n",
      "1/1 - 0s - loss: 0.5187 - binary_accuracy: 0.8012 - val_loss: 0.5175 - val_binary_accuracy: 0.8271 - 91ms/epoch - 91ms/step\n",
      "Epoch 53/200\n",
      "1/1 - 0s - loss: 0.5179 - binary_accuracy: 0.7973 - val_loss: 0.5180 - val_binary_accuracy: 0.8295 - 86ms/epoch - 86ms/step\n",
      "Epoch 54/200\n",
      "1/1 - 0s - loss: 0.5198 - binary_accuracy: 0.8085 - val_loss: 0.5162 - val_binary_accuracy: 0.8192 - 86ms/epoch - 86ms/step\n",
      "Epoch 55/200\n",
      "1/1 - 0s - loss: 0.5177 - binary_accuracy: 0.7981 - val_loss: 0.5171 - val_binary_accuracy: 0.8096 - 84ms/epoch - 84ms/step\n",
      "Epoch 56/200\n",
      "1/1 - 0s - loss: 0.5188 - binary_accuracy: 0.7874 - val_loss: 0.5171 - val_binary_accuracy: 0.8087 - 89ms/epoch - 89ms/step\n",
      "Epoch 57/200\n",
      "1/1 - 0s - loss: 0.5193 - binary_accuracy: 0.7860 - val_loss: 0.5157 - val_binary_accuracy: 0.8182 - 88ms/epoch - 88ms/step\n",
      "Epoch 58/200\n",
      "1/1 - 0s - loss: 0.5186 - binary_accuracy: 0.8027 - val_loss: 0.5158 - val_binary_accuracy: 0.8224 - 90ms/epoch - 90ms/step\n",
      "Epoch 59/200\n",
      "1/1 - 0s - loss: 0.5169 - binary_accuracy: 0.7981 - val_loss: 0.5161 - val_binary_accuracy: 0.8240 - 87ms/epoch - 87ms/step\n",
      "Epoch 60/200\n",
      "1/1 - 0s - loss: 0.5189 - binary_accuracy: 0.8038 - val_loss: 0.5155 - val_binary_accuracy: 0.8172 - 92ms/epoch - 92ms/step\n",
      "Epoch 61/200\n",
      "1/1 - 0s - loss: 0.5172 - binary_accuracy: 0.7915 - val_loss: 0.5155 - val_binary_accuracy: 0.8139 - 85ms/epoch - 85ms/step\n",
      "Epoch 62/200\n",
      "1/1 - 0s - loss: 0.5184 - binary_accuracy: 0.7857 - val_loss: 0.5156 - val_binary_accuracy: 0.8220 - 85ms/epoch - 85ms/step\n",
      "Epoch 63/200\n",
      "1/1 - 0s - loss: 0.5165 - binary_accuracy: 0.7971 - val_loss: 0.5165 - val_binary_accuracy: 0.8269 - 84ms/epoch - 84ms/step\n",
      "Epoch 64/200\n",
      "1/1 - 0s - loss: 0.5172 - binary_accuracy: 0.8067 - val_loss: 0.5155 - val_binary_accuracy: 0.8225 - 85ms/epoch - 85ms/step\n",
      "Epoch 65/200\n",
      "1/1 - 0s - loss: 0.5170 - binary_accuracy: 0.8016 - val_loss: 0.5150 - val_binary_accuracy: 0.8145 - 89ms/epoch - 89ms/step\n",
      "Epoch 66/200\n",
      "1/1 - 0s - loss: 0.5171 - binary_accuracy: 0.7916 - val_loss: 0.5150 - val_binary_accuracy: 0.8132 - 85ms/epoch - 85ms/step\n",
      "Epoch 67/200\n",
      "1/1 - 0s - loss: 0.5169 - binary_accuracy: 0.7907 - val_loss: 0.5146 - val_binary_accuracy: 0.8179 - 84ms/epoch - 84ms/step\n",
      "Epoch 68/200\n",
      "1/1 - 0s - loss: 0.5160 - binary_accuracy: 0.7946 - val_loss: 0.5152 - val_binary_accuracy: 0.8256 - 93ms/epoch - 93ms/step\n",
      "Epoch 69/200\n",
      "1/1 - 0s - loss: 0.5165 - binary_accuracy: 0.8028 - val_loss: 0.5153 - val_binary_accuracy: 0.8274 - 104ms/epoch - 104ms/step\n",
      "Epoch 70/200\n",
      "1/1 - 0s - loss: 0.5172 - binary_accuracy: 0.8079 - val_loss: 0.5143 - val_binary_accuracy: 0.8211 - 93ms/epoch - 93ms/step\n",
      "Epoch 71/200\n",
      "1/1 - 0s - loss: 0.5159 - binary_accuracy: 0.8002 - val_loss: 0.5143 - val_binary_accuracy: 0.8163 - 109ms/epoch - 109ms/step\n",
      "Epoch 72/200\n",
      "1/1 - 0s - loss: 0.5158 - binary_accuracy: 0.7959 - val_loss: 0.5143 - val_binary_accuracy: 0.8155 - 147ms/epoch - 147ms/step\n",
      "Epoch 73/200\n",
      "1/1 - 0s - loss: 0.5161 - binary_accuracy: 0.7931 - val_loss: 0.5140 - val_binary_accuracy: 0.8192 - 139ms/epoch - 139ms/step\n",
      "Epoch 74/200\n",
      "1/1 - 0s - loss: 0.5156 - binary_accuracy: 0.7975 - val_loss: 0.5142 - val_binary_accuracy: 0.8273 - 212ms/epoch - 212ms/step\n",
      "Epoch 75/200\n",
      "1/1 - 0s - loss: 0.5164 - binary_accuracy: 0.8068 - val_loss: 0.5141 - val_binary_accuracy: 0.8279 - 163ms/epoch - 163ms/step\n",
      "Epoch 76/200\n",
      "1/1 - 0s - loss: 0.5158 - binary_accuracy: 0.8018 - val_loss: 0.5139 - val_binary_accuracy: 0.8262 - 212ms/epoch - 212ms/step\n",
      "Epoch 77/200\n",
      "1/1 - 0s - loss: 0.5158 - binary_accuracy: 0.8076 - val_loss: 0.5138 - val_binary_accuracy: 0.8209 - 215ms/epoch - 215ms/step\n",
      "Epoch 78/200\n",
      "1/1 - 0s - loss: 0.5156 - binary_accuracy: 0.7956 - val_loss: 0.5139 - val_binary_accuracy: 0.8204 - 176ms/epoch - 176ms/step\n",
      "Epoch 79/200\n",
      "1/1 - 0s - loss: 0.5154 - binary_accuracy: 0.7998 - val_loss: 0.5139 - val_binary_accuracy: 0.8205 - 89ms/epoch - 89ms/step\n",
      "Epoch 80/200\n",
      "1/1 - 0s - loss: 0.5156 - binary_accuracy: 0.7977 - val_loss: 0.5135 - val_binary_accuracy: 0.8250 - 92ms/epoch - 92ms/step\n",
      "Epoch 81/200\n",
      "1/1 - 0s - loss: 0.5152 - binary_accuracy: 0.8022 - val_loss: 0.5136 - val_binary_accuracy: 0.8309 - 85ms/epoch - 85ms/step\n",
      "Epoch 82/200\n",
      "1/1 - 0s - loss: 0.5163 - binary_accuracy: 0.8091 - val_loss: 0.5133 - val_binary_accuracy: 0.8277 - 88ms/epoch - 88ms/step\n",
      "Epoch 83/200\n",
      "1/1 - 0s - loss: 0.5145 - binary_accuracy: 0.8019 - val_loss: 0.5134 - val_binary_accuracy: 0.8252 - 89ms/epoch - 89ms/step\n",
      "Epoch 84/200\n",
      "1/1 - 0s - loss: 0.5150 - binary_accuracy: 0.8006 - val_loss: 0.5135 - val_binary_accuracy: 0.8242 - 88ms/epoch - 88ms/step\n",
      "Epoch 85/200\n",
      "1/1 - 0s - loss: 0.5150 - binary_accuracy: 0.7989 - val_loss: 0.5133 - val_binary_accuracy: 0.8273 - 86ms/epoch - 86ms/step\n",
      "Epoch 86/200\n",
      "1/1 - 0s - loss: 0.5144 - binary_accuracy: 0.8024 - val_loss: 0.5132 - val_binary_accuracy: 0.8305 - 93ms/epoch - 93ms/step\n",
      "Epoch 87/200\n",
      "1/1 - 0s - loss: 0.5141 - binary_accuracy: 0.8030 - val_loss: 0.5138 - val_binary_accuracy: 0.8366 - 86ms/epoch - 86ms/step\n",
      "Epoch 88/200\n",
      "1/1 - 0s - loss: 0.5157 - binary_accuracy: 0.8115 - val_loss: 0.5131 - val_binary_accuracy: 0.8307 - 85ms/epoch - 85ms/step\n",
      "Epoch 89/200\n",
      "1/1 - 0s - loss: 0.5146 - binary_accuracy: 0.8097 - val_loss: 0.5140 - val_binary_accuracy: 0.8211 - 86ms/epoch - 86ms/step\n",
      "Epoch 90/200\n",
      "1/1 - 0s - loss: 0.5151 - binary_accuracy: 0.7978 - val_loss: 0.5147 - val_binary_accuracy: 0.8187 - 83ms/epoch - 83ms/step\n",
      "Epoch 91/200\n",
      "1/1 - 0s - loss: 0.5171 - binary_accuracy: 0.7895 - val_loss: 0.5128 - val_binary_accuracy: 0.8298 - 91ms/epoch - 91ms/step\n",
      "Epoch 92/200\n",
      "1/1 - 0s - loss: 0.5140 - binary_accuracy: 0.8047 - val_loss: 0.5141 - val_binary_accuracy: 0.8399 - 85ms/epoch - 85ms/step\n",
      "Epoch 93/200\n",
      "1/1 - 0s - loss: 0.5158 - binary_accuracy: 0.8185 - val_loss: 0.5136 - val_binary_accuracy: 0.8380 - 121ms/epoch - 121ms/step\n",
      "Epoch 94/200\n",
      "1/1 - 0s - loss: 0.5146 - binary_accuracy: 0.8108 - val_loss: 0.5126 - val_binary_accuracy: 0.8317 - 127ms/epoch - 127ms/step\n",
      "Epoch 95/200\n",
      "1/1 - 0s - loss: 0.5141 - binary_accuracy: 0.8082 - val_loss: 0.5137 - val_binary_accuracy: 0.8220 - 137ms/epoch - 137ms/step\n",
      "Epoch 96/200\n",
      "1/1 - 0s - loss: 0.5150 - binary_accuracy: 0.7971 - val_loss: 0.5138 - val_binary_accuracy: 0.8221 - 89ms/epoch - 89ms/step\n",
      "Epoch 97/200\n",
      "1/1 - 0s - loss: 0.5154 - binary_accuracy: 0.7949 - val_loss: 0.5125 - val_binary_accuracy: 0.8311 - 87ms/epoch - 87ms/step\n",
      "Epoch 98/200\n",
      "1/1 - 0s - loss: 0.5136 - binary_accuracy: 0.8076 - val_loss: 0.5130 - val_binary_accuracy: 0.8369 - 96ms/epoch - 96ms/step\n",
      "Epoch 99/200\n",
      "1/1 - 0s - loss: 0.5143 - binary_accuracy: 0.8136 - val_loss: 0.5133 - val_binary_accuracy: 0.8382 - 97ms/epoch - 97ms/step\n",
      "Epoch 100/200\n",
      "1/1 - 0s - loss: 0.5152 - binary_accuracy: 0.8165 - val_loss: 0.5125 - val_binary_accuracy: 0.8335 - 118ms/epoch - 118ms/step\n",
      "Epoch 101/200\n",
      "1/1 - 0s - loss: 0.5144 - binary_accuracy: 0.8099 - val_loss: 0.5127 - val_binary_accuracy: 0.8274 - 122ms/epoch - 122ms/step\n",
      "Epoch 102/200\n",
      "1/1 - 0s - loss: 0.5136 - binary_accuracy: 0.8080 - val_loss: 0.5137 - val_binary_accuracy: 0.8221 - 126ms/epoch - 126ms/step\n",
      "Epoch 103/200\n",
      "1/1 - 0s - loss: 0.5171 - binary_accuracy: 0.7897 - val_loss: 0.5123 - val_binary_accuracy: 0.8314 - 144ms/epoch - 144ms/step\n",
      "Epoch 104/200\n",
      "1/1 - 0s - loss: 0.5134 - binary_accuracy: 0.8080 - val_loss: 0.5132 - val_binary_accuracy: 0.8393 - 126ms/epoch - 126ms/step\n",
      "Epoch 105/200\n",
      "1/1 - 0s - loss: 0.5142 - binary_accuracy: 0.8178 - val_loss: 0.5138 - val_binary_accuracy: 0.8411 - 141ms/epoch - 141ms/step\n",
      "Epoch 106/200\n",
      "1/1 - 0s - loss: 0.5147 - binary_accuracy: 0.8204 - val_loss: 0.5125 - val_binary_accuracy: 0.8357 - 259ms/epoch - 259ms/step\n",
      "Epoch 107/200\n",
      "1/1 - 0s - loss: 0.5140 - binary_accuracy: 0.8139 - val_loss: 0.5127 - val_binary_accuracy: 0.8274 - 184ms/epoch - 184ms/step\n",
      "Epoch 108/200\n",
      "1/1 - 0s - loss: 0.5147 - binary_accuracy: 0.8010 - val_loss: 0.5132 - val_binary_accuracy: 0.8254 - 85ms/epoch - 85ms/step\n",
      "Epoch 109/200\n",
      "1/1 - 0s - loss: 0.5149 - binary_accuracy: 0.8010 - val_loss: 0.5122 - val_binary_accuracy: 0.8317 - 92ms/epoch - 92ms/step\n",
      "Epoch 110/200\n",
      "1/1 - 0s - loss: 0.5139 - binary_accuracy: 0.8060 - val_loss: 0.5131 - val_binary_accuracy: 0.8398 - 90ms/epoch - 90ms/step\n",
      "Epoch 111/200\n",
      "1/1 - 0s - loss: 0.5143 - binary_accuracy: 0.8202 - val_loss: 0.5132 - val_binary_accuracy: 0.8404 - 90ms/epoch - 90ms/step\n",
      "Epoch 112/200\n",
      "1/1 - 0s - loss: 0.5142 - binary_accuracy: 0.8171 - val_loss: 0.5121 - val_binary_accuracy: 0.8353 - 89ms/epoch - 89ms/step\n",
      "Epoch 113/200\n",
      "1/1 - 0s - loss: 0.5131 - binary_accuracy: 0.8122 - val_loss: 0.5125 - val_binary_accuracy: 0.8278 - 86ms/epoch - 86ms/step\n",
      "Epoch 114/200\n",
      "1/1 - 0s - loss: 0.5138 - binary_accuracy: 0.8018 - val_loss: 0.5133 - val_binary_accuracy: 0.8248 - 120ms/epoch - 120ms/step\n",
      "Epoch 115/200\n",
      "1/1 - 0s - loss: 0.5145 - binary_accuracy: 0.7971 - val_loss: 0.5126 - val_binary_accuracy: 0.8281 - 88ms/epoch - 88ms/step\n",
      "Epoch 116/200\n",
      "1/1 - 0s - loss: 0.5134 - binary_accuracy: 0.8005 - val_loss: 0.5120 - val_binary_accuracy: 0.8356 - 89ms/epoch - 89ms/step\n",
      "Epoch 117/200\n",
      "1/1 - 0s - loss: 0.5135 - binary_accuracy: 0.8154 - val_loss: 0.5130 - val_binary_accuracy: 0.8405 - 88ms/epoch - 88ms/step\n",
      "Epoch 118/200\n",
      "1/1 - 0s - loss: 0.5155 - binary_accuracy: 0.8225 - val_loss: 0.5122 - val_binary_accuracy: 0.8366 - 92ms/epoch - 92ms/step\n",
      "Epoch 119/200\n",
      "1/1 - 0s - loss: 0.5128 - binary_accuracy: 0.8121 - val_loss: 0.5120 - val_binary_accuracy: 0.8342 - 121ms/epoch - 121ms/step\n",
      "Epoch 120/200\n",
      "1/1 - 0s - loss: 0.5135 - binary_accuracy: 0.8101 - val_loss: 0.5120 - val_binary_accuracy: 0.8319 - 90ms/epoch - 90ms/step\n",
      "Epoch 121/200\n",
      "1/1 - 0s - loss: 0.5135 - binary_accuracy: 0.8073 - val_loss: 0.5120 - val_binary_accuracy: 0.8326 - 87ms/epoch - 87ms/step\n",
      "Epoch 122/200\n",
      "1/1 - 0s - loss: 0.5133 - binary_accuracy: 0.8040 - val_loss: 0.5120 - val_binary_accuracy: 0.8359 - 87ms/epoch - 87ms/step\n",
      "Epoch 123/200\n",
      "1/1 - 0s - loss: 0.5136 - binary_accuracy: 0.8098 - val_loss: 0.5120 - val_binary_accuracy: 0.8363 - 85ms/epoch - 85ms/step\n",
      "Epoch 124/200\n",
      "1/1 - 0s - loss: 0.5133 - binary_accuracy: 0.8132 - val_loss: 0.5119 - val_binary_accuracy: 0.8334 - 88ms/epoch - 88ms/step\n",
      "Epoch 125/200\n",
      "1/1 - 0s - loss: 0.5135 - binary_accuracy: 0.8075 - val_loss: 0.5118 - val_binary_accuracy: 0.8324 - 89ms/epoch - 89ms/step\n",
      "Epoch 126/200\n",
      "1/1 - 0s - loss: 0.5129 - binary_accuracy: 0.8102 - val_loss: 0.5119 - val_binary_accuracy: 0.8311 - 88ms/epoch - 88ms/step\n",
      "Epoch 127/200\n",
      "1/1 - 0s - loss: 0.5137 - binary_accuracy: 0.8041 - val_loss: 0.5119 - val_binary_accuracy: 0.8374 - 86ms/epoch - 86ms/step\n",
      "Epoch 128/200\n",
      "1/1 - 0s - loss: 0.5143 - binary_accuracy: 0.8179 - val_loss: 0.5116 - val_binary_accuracy: 0.8339 - 94ms/epoch - 94ms/step\n",
      "Epoch 129/200\n",
      "1/1 - 0s - loss: 0.5129 - binary_accuracy: 0.8094 - val_loss: 0.5116 - val_binary_accuracy: 0.8328 - 91ms/epoch - 91ms/step\n",
      "Epoch 130/200\n",
      "1/1 - 0s - loss: 0.5137 - binary_accuracy: 0.8048 - val_loss: 0.5119 - val_binary_accuracy: 0.8375 - 88ms/epoch - 88ms/step\n",
      "Epoch 131/200\n",
      "1/1 - 0s - loss: 0.5142 - binary_accuracy: 0.8191 - val_loss: 0.5115 - val_binary_accuracy: 0.8314 - 87ms/epoch - 87ms/step\n",
      "Epoch 132/200\n",
      "1/1 - 0s - loss: 0.5132 - binary_accuracy: 0.8023 - val_loss: 0.5115 - val_binary_accuracy: 0.8297 - 89ms/epoch - 89ms/step\n",
      "Epoch 133/200\n",
      "1/1 - 0s - loss: 0.5136 - binary_accuracy: 0.7992 - val_loss: 0.5119 - val_binary_accuracy: 0.8383 - 89ms/epoch - 89ms/step\n",
      "Epoch 134/200\n",
      "1/1 - 0s - loss: 0.5125 - binary_accuracy: 0.8139 - val_loss: 0.5135 - val_binary_accuracy: 0.8436 - 89ms/epoch - 89ms/step\n",
      "Epoch 135/200\n",
      "1/1 - 0s - loss: 0.5139 - binary_accuracy: 0.8220 - val_loss: 0.5117 - val_binary_accuracy: 0.8371 - 105ms/epoch - 105ms/step\n",
      "Epoch 136/200\n",
      "1/1 - 0s - loss: 0.5127 - binary_accuracy: 0.8146 - val_loss: 0.5117 - val_binary_accuracy: 0.8275 - 93ms/epoch - 93ms/step\n",
      "Epoch 137/200\n",
      "1/1 - 0s - loss: 0.5131 - binary_accuracy: 0.8064 - val_loss: 0.5135 - val_binary_accuracy: 0.8197 - 98ms/epoch - 98ms/step\n",
      "Epoch 138/200\n",
      "1/1 - 0s - loss: 0.5151 - binary_accuracy: 0.7960 - val_loss: 0.5119 - val_binary_accuracy: 0.8276 - 89ms/epoch - 89ms/step\n",
      "Epoch 139/200\n",
      "1/1 - 0s - loss: 0.5137 - binary_accuracy: 0.8038 - val_loss: 0.5122 - val_binary_accuracy: 0.8401 - 97ms/epoch - 97ms/step\n",
      "Epoch 140/200\n",
      "1/1 - 0s - loss: 0.5130 - binary_accuracy: 0.8197 - val_loss: 0.5138 - val_binary_accuracy: 0.8444 - 226ms/epoch - 226ms/step\n",
      "Epoch 141/200\n",
      "1/1 - 0s - loss: 0.5166 - binary_accuracy: 0.8271 - val_loss: 0.5115 - val_binary_accuracy: 0.8360 - 148ms/epoch - 148ms/step\n",
      "Epoch 142/200\n",
      "1/1 - 0s - loss: 0.5131 - binary_accuracy: 0.8174 - val_loss: 0.5132 - val_binary_accuracy: 0.8249 - 157ms/epoch - 157ms/step\n",
      "Epoch 143/200\n",
      "1/1 - 0s - loss: 0.5146 - binary_accuracy: 0.8007 - val_loss: 0.5134 - val_binary_accuracy: 0.8246 - 156ms/epoch - 156ms/step\n",
      "Epoch 144/200\n",
      "1/1 - 0s - loss: 0.5139 - binary_accuracy: 0.8043 - val_loss: 0.5119 - val_binary_accuracy: 0.8302 - 90ms/epoch - 90ms/step\n",
      "Epoch 145/200\n",
      "1/1 - 0s - loss: 0.5132 - binary_accuracy: 0.8081 - val_loss: 0.5119 - val_binary_accuracy: 0.8385 - 93ms/epoch - 93ms/step\n",
      "Epoch 146/200\n",
      "1/1 - 0s - loss: 0.5128 - binary_accuracy: 0.8187 - val_loss: 0.5136 - val_binary_accuracy: 0.8439 - 88ms/epoch - 88ms/step\n",
      "Epoch 147/200\n",
      "1/1 - 0s - loss: 0.5142 - binary_accuracy: 0.8264 - val_loss: 0.5131 - val_binary_accuracy: 0.8430 - 84ms/epoch - 84ms/step\n",
      "Epoch 148/200\n",
      "1/1 - 0s - loss: 0.5142 - binary_accuracy: 0.8269 - val_loss: 0.5115 - val_binary_accuracy: 0.8330 - 95ms/epoch - 95ms/step\n",
      "Epoch 149/200\n",
      "1/1 - 0s - loss: 0.5130 - binary_accuracy: 0.8146 - val_loss: 0.5127 - val_binary_accuracy: 0.8260 - 87ms/epoch - 87ms/step\n",
      "Epoch 150/200\n",
      "1/1 - 0s - loss: 0.5141 - binary_accuracy: 0.8063 - val_loss: 0.5128 - val_binary_accuracy: 0.8255 - 123ms/epoch - 123ms/step\n",
      "Epoch 151/200\n",
      "1/1 - 0s - loss: 0.5147 - binary_accuracy: 0.8044 - val_loss: 0.5114 - val_binary_accuracy: 0.8337 - 147ms/epoch - 147ms/step\n",
      "Epoch 152/200\n",
      "1/1 - 0s - loss: 0.5125 - binary_accuracy: 0.8157 - val_loss: 0.5126 - val_binary_accuracy: 0.8424 - 167ms/epoch - 167ms/step\n",
      "Epoch 153/200\n",
      "1/1 - 0s - loss: 0.5140 - binary_accuracy: 0.8259 - val_loss: 0.5127 - val_binary_accuracy: 0.8427 - 172ms/epoch - 172ms/step\n",
      "Epoch 154/200\n",
      "1/1 - 0s - loss: 0.5139 - binary_accuracy: 0.8283 - val_loss: 0.5114 - val_binary_accuracy: 0.8356 - 91ms/epoch - 91ms/step\n",
      "Epoch 155/200\n",
      "1/1 - 0s - loss: 0.5128 - binary_accuracy: 0.8169 - val_loss: 0.5119 - val_binary_accuracy: 0.8285 - 161ms/epoch - 161ms/step\n",
      "Epoch 156/200\n",
      "1/1 - 0s - loss: 0.5130 - binary_accuracy: 0.8104 - val_loss: 0.5126 - val_binary_accuracy: 0.8256 - 132ms/epoch - 132ms/step\n",
      "Epoch 157/200\n",
      "1/1 - 0s - loss: 0.5138 - binary_accuracy: 0.8056 - val_loss: 0.5117 - val_binary_accuracy: 0.8302 - 97ms/epoch - 97ms/step\n",
      "Epoch 158/200\n",
      "1/1 - 0s - loss: 0.5127 - binary_accuracy: 0.8138 - val_loss: 0.5113 - val_binary_accuracy: 0.8350 - 89ms/epoch - 89ms/step\n",
      "Epoch 159/200\n",
      "1/1 - 0s - loss: 0.5124 - binary_accuracy: 0.8158 - val_loss: 0.5120 - val_binary_accuracy: 0.8400 - 112ms/epoch - 112ms/step\n",
      "Epoch 160/200\n",
      "1/1 - 0s - loss: 0.5122 - binary_accuracy: 0.8228 - val_loss: 0.5123 - val_binary_accuracy: 0.8409 - 144ms/epoch - 144ms/step\n",
      "Epoch 161/200\n",
      "1/1 - 0s - loss: 0.5134 - binary_accuracy: 0.8230 - val_loss: 0.5114 - val_binary_accuracy: 0.8363 - 153ms/epoch - 153ms/step\n",
      "Epoch 162/200\n",
      "1/1 - 0s - loss: 0.5122 - binary_accuracy: 0.8122 - val_loss: 0.5113 - val_binary_accuracy: 0.8340 - 134ms/epoch - 134ms/step\n",
      "Epoch 163/200\n",
      "1/1 - 0s - loss: 0.5128 - binary_accuracy: 0.8140 - val_loss: 0.5114 - val_binary_accuracy: 0.8336 - 123ms/epoch - 123ms/step\n",
      "Epoch 164/200\n",
      "1/1 - 0s - loss: 0.5123 - binary_accuracy: 0.8117 - val_loss: 0.5113 - val_binary_accuracy: 0.8349 - 174ms/epoch - 174ms/step\n",
      "Epoch 165/200\n",
      "1/1 - 0s - loss: 0.5126 - binary_accuracy: 0.8154 - val_loss: 0.5114 - val_binary_accuracy: 0.8362 - 91ms/epoch - 91ms/step\n",
      "Epoch 166/200\n",
      "1/1 - 0s - loss: 0.5129 - binary_accuracy: 0.8194 - val_loss: 0.5113 - val_binary_accuracy: 0.8318 - 90ms/epoch - 90ms/step\n",
      "Epoch 167/200\n",
      "1/1 - 0s - loss: 0.5124 - binary_accuracy: 0.8131 - val_loss: 0.5114 - val_binary_accuracy: 0.8284 - 95ms/epoch - 95ms/step\n",
      "Epoch 168/200\n",
      "1/1 - 0s - loss: 0.5128 - binary_accuracy: 0.8086 - val_loss: 0.5111 - val_binary_accuracy: 0.8323 - 89ms/epoch - 89ms/step\n",
      "Epoch 169/200\n",
      "1/1 - 0s - loss: 0.5126 - binary_accuracy: 0.8126 - val_loss: 0.5110 - val_binary_accuracy: 0.8330 - 92ms/epoch - 92ms/step\n",
      "Epoch 170/200\n",
      "1/1 - 0s - loss: 0.5123 - binary_accuracy: 0.8116 - val_loss: 0.5110 - val_binary_accuracy: 0.8359 - 128ms/epoch - 128ms/step\n",
      "Epoch 171/200\n",
      "1/1 - 0s - loss: 0.5120 - binary_accuracy: 0.8153 - val_loss: 0.5110 - val_binary_accuracy: 0.8365 - 145ms/epoch - 145ms/step\n",
      "Epoch 172/200\n",
      "1/1 - 0s - loss: 0.5125 - binary_accuracy: 0.8099 - val_loss: 0.5113 - val_binary_accuracy: 0.8401 - 134ms/epoch - 134ms/step\n",
      "Epoch 173/200\n",
      "1/1 - 0s - loss: 0.5133 - binary_accuracy: 0.8211 - val_loss: 0.5109 - val_binary_accuracy: 0.8329 - 130ms/epoch - 130ms/step\n",
      "Epoch 174/200\n",
      "1/1 - 0s - loss: 0.5127 - binary_accuracy: 0.8126 - val_loss: 0.5112 - val_binary_accuracy: 0.8287 - 88ms/epoch - 88ms/step\n",
      "Epoch 175/200\n",
      "1/1 - 0s - loss: 0.5133 - binary_accuracy: 0.8070 - val_loss: 0.5109 - val_binary_accuracy: 0.8324 - 89ms/epoch - 89ms/step\n",
      "Epoch 176/200\n",
      "1/1 - 0s - loss: 0.5128 - binary_accuracy: 0.8071 - val_loss: 0.5118 - val_binary_accuracy: 0.8427 - 92ms/epoch - 92ms/step\n",
      "Epoch 177/200\n",
      "1/1 - 0s - loss: 0.5134 - binary_accuracy: 0.8257 - val_loss: 0.5119 - val_binary_accuracy: 0.8418 - 93ms/epoch - 93ms/step\n",
      "Epoch 178/200\n",
      "1/1 - 0s - loss: 0.5134 - binary_accuracy: 0.8256 - val_loss: 0.5114 - val_binary_accuracy: 0.8315 - 92ms/epoch - 92ms/step\n",
      "Epoch 179/200\n",
      "1/1 - 0s - loss: 0.5123 - binary_accuracy: 0.8098 - val_loss: 0.5122 - val_binary_accuracy: 0.8277 - 88ms/epoch - 88ms/step\n",
      "Epoch 180/200\n",
      "1/1 - 0s - loss: 0.5142 - binary_accuracy: 0.8021 - val_loss: 0.5114 - val_binary_accuracy: 0.8366 - 87ms/epoch - 87ms/step\n",
      "Epoch 181/200\n",
      "1/1 - 0s - loss: 0.5126 - binary_accuracy: 0.8141 - val_loss: 0.5142 - val_binary_accuracy: 0.8463 - 92ms/epoch - 92ms/step\n",
      "Epoch 182/200\n",
      "1/1 - 0s - loss: 0.5152 - binary_accuracy: 0.8303 - val_loss: 0.5125 - val_binary_accuracy: 0.8427 - 89ms/epoch - 89ms/step\n",
      "Epoch 183/200\n",
      "1/1 - 0s - loss: 0.5129 - binary_accuracy: 0.8258 - val_loss: 0.5115 - val_binary_accuracy: 0.8330 - 90ms/epoch - 90ms/step\n",
      "Epoch 184/200\n",
      "1/1 - 0s - loss: 0.5124 - binary_accuracy: 0.8153 - val_loss: 0.5134 - val_binary_accuracy: 0.8233 - 89ms/epoch - 89ms/step\n",
      "Epoch 185/200\n",
      "1/1 - 0s - loss: 0.5138 - binary_accuracy: 0.8087 - val_loss: 0.5125 - val_binary_accuracy: 0.8275 - 89ms/epoch - 89ms/step\n",
      "Epoch 186/200\n",
      "1/1 - 0s - loss: 0.5135 - binary_accuracy: 0.8102 - val_loss: 0.5112 - val_binary_accuracy: 0.8380 - 90ms/epoch - 90ms/step\n",
      "Epoch 187/200\n",
      "1/1 - 0s - loss: 0.5122 - binary_accuracy: 0.8229 - val_loss: 0.5126 - val_binary_accuracy: 0.8449 - 91ms/epoch - 91ms/step\n",
      "Epoch 188/200\n",
      "1/1 - 0s - loss: 0.5130 - binary_accuracy: 0.8300 - val_loss: 0.5124 - val_binary_accuracy: 0.8441 - 89ms/epoch - 89ms/step\n",
      "Epoch 189/200\n",
      "1/1 - 0s - loss: 0.5136 - binary_accuracy: 0.8314 - val_loss: 0.5110 - val_binary_accuracy: 0.8365 - 96ms/epoch - 96ms/step\n",
      "Epoch 190/200\n",
      "1/1 - 0s - loss: 0.5123 - binary_accuracy: 0.8218 - val_loss: 0.5128 - val_binary_accuracy: 0.8250 - 87ms/epoch - 87ms/step\n",
      "Epoch 191/200\n",
      "1/1 - 0s - loss: 0.5144 - binary_accuracy: 0.8037 - val_loss: 0.5118 - val_binary_accuracy: 0.8298 - 88ms/epoch - 88ms/step\n",
      "Epoch 192/200\n",
      "1/1 - 0s - loss: 0.5131 - binary_accuracy: 0.8103 - val_loss: 0.5111 - val_binary_accuracy: 0.8386 - 89ms/epoch - 89ms/step\n",
      "Epoch 193/200\n",
      "1/1 - 0s - loss: 0.5120 - binary_accuracy: 0.8176 - val_loss: 0.5149 - val_binary_accuracy: 0.8482 - 86ms/epoch - 86ms/step\n",
      "Epoch 194/200\n",
      "1/1 - 0s - loss: 0.5164 - binary_accuracy: 0.8359 - val_loss: 0.5134 - val_binary_accuracy: 0.8450 - 93ms/epoch - 93ms/step\n",
      "Epoch 195/200\n",
      "1/1 - 0s - loss: 0.5154 - binary_accuracy: 0.8350 - val_loss: 0.5112 - val_binary_accuracy: 0.8314 - 91ms/epoch - 91ms/step\n",
      "Epoch 196/200\n",
      "1/1 - 0s - loss: 0.5135 - binary_accuracy: 0.8177 - val_loss: 0.5165 - val_binary_accuracy: 0.8146 - 102ms/epoch - 102ms/step\n",
      "Epoch 197/200\n",
      "1/1 - 0s - loss: 0.5169 - binary_accuracy: 0.7960 - val_loss: 0.5147 - val_binary_accuracy: 0.8183 - 88ms/epoch - 88ms/step\n",
      "Epoch 198/200\n",
      "1/1 - 0s - loss: 0.5167 - binary_accuracy: 0.7998 - val_loss: 0.5113 - val_binary_accuracy: 0.8369 - 89ms/epoch - 89ms/step\n",
      "Epoch 199/200\n",
      "1/1 - 0s - loss: 0.5132 - binary_accuracy: 0.8273 - val_loss: 0.5146 - val_binary_accuracy: 0.8447 - 134ms/epoch - 134ms/step\n",
      "Epoch 200/200\n",
      "1/1 - 0s - loss: 0.5149 - binary_accuracy: 0.8333 - val_loss: 0.5143 - val_binary_accuracy: 0.8436 - 128ms/epoch - 128ms/step\n"
     ]
    }
   ],
   "source": [
    "history = model.fit(\n",
    "    train_flow, epochs=epochs, validation_data=test_flow, verbose=2, shuffle=False\n",
    ")"
   ]
  },
  {
   "cell_type": "code",
   "execution_count": 108,
   "metadata": {
    "executionInfo": {
     "elapsed": 1242,
     "status": "ok",
     "timestamp": 1663373172213,
     "user": {
      "displayName": "changhee han",
      "userId": "07565524867850934674"
     },
     "user_tz": 300
    },
    "id": "Kg148jiAMq3O"
   },
   "outputs": [],
   "source": [
    "model.save(SAVE_PATH+'gcn.model')"
   ]
  },
  {
   "cell_type": "code",
   "execution_count": 110,
   "metadata": {
    "colab": {
     "base_uri": "https://localhost:8080/",
     "height": 585
    },
    "executionInfo": {
     "elapsed": 794,
     "status": "ok",
     "timestamp": 1663373215806,
     "user": {
      "displayName": "changhee han",
      "userId": "07565524867850934674"
     },
     "user_tz": 300
    },
    "id": "fhOPZAhPt4Zx",
    "outputId": "d4e5d9f4-38e1-4aa3-c54f-65bab49422d9"
   },
   "outputs": [
    {
     "data": {
      "image/png": "[encoded data removed]",
      "text/plain": [
       "<Figure size 504x576 with 2 Axes>"
      ]
     },
     "metadata": {
      "needs_background": "light"
     },
     "output_type": "display_data"
    }
   ],
   "source": [
    "import matplotlib.pyplot as plt\n",
    "\n",
    "fig=sg.utils.plot_history(history,return_figure=True)\n",
    "fig.savefig(Result_PATH+'gcn_128_64')"
   ]
  },
  {
   "cell_type": "code",
   "execution_count": 70,
   "metadata": {
    "colab": {
     "base_uri": "https://localhost:8080/",
     "height": 585
    },
    "executionInfo": {
     "elapsed": 660,
     "status": "ok",
     "timestamp": 1663371861737,
     "user": {
      "displayName": "changhee han",
      "userId": "07565524867850934674"
     },
     "user_tz": 300
    },
    "id": "XncKqTUCs_VB",
    "outputId": "390eb1a1-9f0c-4bff-a639-574b5079fa92"
   },
   "outputs": [
    {
     "data": {
      "image/png": "[encoded data removed]",
      "text/plain": [
       "<Figure size 504x576 with 2 Axes>"
      ]
     },
     "metadata": {
      "needs_background": "light"
     },
     "output_type": "display_data"
    }
   ],
   "source": [
    "sg.utils.plot_history(history)"
   ]
  },
  {
   "cell_type": "code",
   "execution_count": 71,
   "metadata": {
    "colab": {
     "base_uri": "https://localhost:8080/"
    },
    "executionInfo": {
     "elapsed": 316,
     "status": "ok",
     "timestamp": 1663371875117,
     "user": {
      "displayName": "changhee han",
      "userId": "07565524867850934674"
     },
     "user_tz": 300
    },
    "id": "-59_r7q_tGvZ",
    "outputId": "cf6e305d-6242-4a94-cc2d-253aa76fa849"
   },
   "outputs": [
    {
     "name": "stdout",
     "output_type": "stream",
     "text": [
      "1/1 [==============================] - 0s 58ms/step - loss: 0.5088 - binary_accuracy: 0.8368\n",
      "1/1 [==============================] - 0s 61ms/step - loss: 0.5093 - binary_accuracy: 0.8404\n",
      "\n",
      "Train Set Metrics of the trained model:\n",
      "\tloss: 0.5088\n",
      "\tbinary_accuracy: 0.8368\n",
      "\n",
      "Test Set Metrics of the trained model:\n",
      "\tloss: 0.5093\n",
      "\tbinary_accuracy: 0.8404\n"
     ]
    }
   ],
   "source": [
    "train_metrics = model.evaluate(train_flow)\n",
    "test_metrics = model.evaluate(test_flow)\n",
    "\n",
    "print(\"\\nTrain Set Metrics of the trained model:\")\n",
    "for name, val in zip(model.metrics_names, train_metrics):\n",
    "    print(\"\\t{}: {:0.4f}\".format(name, val))\n",
    "\n",
    "print(\"\\nTest Set Metrics of the trained model:\")\n",
    "for name, val in zip(model.metrics_names, test_metrics):\n",
    "    print(\"\\t{}: {:0.4f}\".format(name, val))"
   ]
  },
  {
   "cell_type": "code",
   "execution_count": null,
   "metadata": {
    "id": "fFC4YpNskJ9N"
   },
   "outputs": [],
   "source": []
  }
 ],
 "metadata": {
  "accelerator": "GPU",
  "colab": {
   "authorship_tag": "ABX9TyNyEOUYFkeYaaGpPOkrWYYL",
   "collapsed_sections": [],
   "machine_shape": "hm",
   "mount_file_id": "1QuQWxqx57xBkXpTGenFQJlKi2Q5A_KbF",
   "provenance": []
  },
  "kernelspec": {
   "display_name": "Python 3",
   "language": "python",
   "name": "python3"
  },
  "language_info": {
   "codemirror_mode": {
    "name": "ipython",
    "version": 3
   },
   "file_extension": ".py",
   "mimetype": "text/x-python",
   "name": "python",
   "nbconvert_exporter": "python",
   "pygments_lexer": "ipython3",
   "version": "3.6.12"
  }
 },
 "nbformat": 4,
 "nbformat_minor": 4
}
